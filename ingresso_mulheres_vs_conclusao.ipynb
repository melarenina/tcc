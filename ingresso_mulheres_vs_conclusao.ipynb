{
  "cells": [
    {
      "cell_type": "markdown",
      "metadata": {
        "id": "x-paGU2DumPM"
      },
      "source": [
        "## Ingresso vs Conclusão nos cursos\n"
      ]
    },
    {
      "cell_type": "code",
      "execution_count": 1,
      "metadata": {
        "id": "Cm4XzaC6rKG3"
      },
      "outputs": [],
      "source": [
        "import pandas as pd\n",
        "from matplotlib import pyplot as plt\n",
        "import numpy as np"
      ]
    },
    {
      "cell_type": "code",
      "execution_count": 2,
      "metadata": {
        "colab": {
          "base_uri": "https://localhost:8080/",
          "height": 206
        },
        "id": "fecw780IrSCI",
        "outputId": "e1588a5d-541f-4c4b-fccb-62192977e4a4"
      },
      "outputs": [
        {
          "data": {
            "text/html": [
              "<div>\n",
              "<style scoped>\n",
              "    .dataframe tbody tr th:only-of-type {\n",
              "        vertical-align: middle;\n",
              "    }\n",
              "\n",
              "    .dataframe tbody tr th {\n",
              "        vertical-align: top;\n",
              "    }\n",
              "\n",
              "    .dataframe thead th {\n",
              "        text-align: right;\n",
              "    }\n",
              "</style>\n",
              "<table border=\"1\" class=\"dataframe\">\n",
              "  <thead>\n",
              "    <tr style=\"text-align: right;\">\n",
              "      <th></th>\n",
              "      <th>SEXO</th>\n",
              "      <th>NOME_CURSO</th>\n",
              "      <th>DATACONCLUSAO</th>\n",
              "    </tr>\n",
              "  </thead>\n",
              "  <tbody>\n",
              "    <tr>\n",
              "      <th>1026</th>\n",
              "      <td>M</td>\n",
              "      <td>Engenharia Sanitária e Ambiental</td>\n",
              "      <td>2020</td>\n",
              "    </tr>\n",
              "    <tr>\n",
              "      <th>1027</th>\n",
              "      <td>M</td>\n",
              "      <td>Engenharia Sanitária e Ambiental</td>\n",
              "      <td>2020</td>\n",
              "    </tr>\n",
              "    <tr>\n",
              "      <th>1028</th>\n",
              "      <td>M</td>\n",
              "      <td>Engenharia Civil</td>\n",
              "      <td>2020</td>\n",
              "    </tr>\n",
              "    <tr>\n",
              "      <th>1029</th>\n",
              "      <td>F</td>\n",
              "      <td>Geologia</td>\n",
              "      <td>2020</td>\n",
              "    </tr>\n",
              "    <tr>\n",
              "      <th>1030</th>\n",
              "      <td>M</td>\n",
              "      <td>Mestrado Profissional em Matemática</td>\n",
              "      <td>2020</td>\n",
              "    </tr>\n",
              "  </tbody>\n",
              "</table>\n",
              "</div>"
            ],
            "text/plain": [
              "     SEXO                           NOME_CURSO  DATACONCLUSAO\n",
              "1026    M     Engenharia Sanitária e Ambiental           2020\n",
              "1027    M     Engenharia Sanitária e Ambiental           2020\n",
              "1028    M                     Engenharia Civil           2020\n",
              "1029    F                             Geologia           2020\n",
              "1030    M  Mestrado Profissional em Matemática           2020"
            ]
          },
          "execution_count": 2,
          "metadata": {},
          "output_type": "execute_result"
        }
      ],
      "source": [
        "# Leitura do dataset \"relacao-diplomados\"\n",
        "\n",
        "df_rel_diplomados = pd.read_csv('relacao-diplomados.csv')\n",
        "\n",
        "df_rel_diplomados = df_rel_diplomados[['SEXO', 'CURSO', 'CONCLUSÃO']]\n",
        "df_rel_diplomados.columns = ['SEXO', 'NOME_CURSO', 'DATACONCLUSAO'] #Padronizando colunas\n",
        "df_rel_diplomados.tail()"
      ]
    },
    {
      "cell_type": "code",
      "execution_count": 3,
      "metadata": {
        "colab": {
          "base_uri": "https://localhost:8080/",
          "height": 206
        },
        "id": "M_dsA_VKNeQq",
        "outputId": "c62600d5-95a9-479b-c698-a3a1860d5987"
      },
      "outputs": [
        {
          "data": {
            "text/html": [
              "<div>\n",
              "<style scoped>\n",
              "    .dataframe tbody tr th:only-of-type {\n",
              "        vertical-align: middle;\n",
              "    }\n",
              "\n",
              "    .dataframe tbody tr th {\n",
              "        vertical-align: top;\n",
              "    }\n",
              "\n",
              "    .dataframe thead th {\n",
              "        text-align: right;\n",
              "    }\n",
              "</style>\n",
              "<table border=\"1\" class=\"dataframe\">\n",
              "  <thead>\n",
              "    <tr style=\"text-align: right;\">\n",
              "      <th></th>\n",
              "      <th>SEXO</th>\n",
              "      <th>NOME_CURSO</th>\n",
              "      <th>DATA_INGRESSO</th>\n",
              "      <th>DATACONCLUSAO</th>\n",
              "    </tr>\n",
              "  </thead>\n",
              "  <tbody>\n",
              "    <tr>\n",
              "      <th>7099</th>\n",
              "      <td>M</td>\n",
              "      <td>SEGURANÇA PÚBLICA</td>\n",
              "      <td>2017</td>\n",
              "      <td>2019</td>\n",
              "    </tr>\n",
              "    <tr>\n",
              "      <th>7100</th>\n",
              "      <td>M</td>\n",
              "      <td>SEGURANÇA PÚBLICA</td>\n",
              "      <td>2017</td>\n",
              "      <td>2019</td>\n",
              "    </tr>\n",
              "    <tr>\n",
              "      <th>7101</th>\n",
              "      <td>M</td>\n",
              "      <td>SEGURANÇA PÚBLICA</td>\n",
              "      <td>2015</td>\n",
              "      <td>2019</td>\n",
              "    </tr>\n",
              "    <tr>\n",
              "      <th>7102</th>\n",
              "      <td>M</td>\n",
              "      <td>SEGURANÇA PÚBLICA</td>\n",
              "      <td>2016</td>\n",
              "      <td>2019</td>\n",
              "    </tr>\n",
              "    <tr>\n",
              "      <th>7103</th>\n",
              "      <td>F</td>\n",
              "      <td>QUÍMICA</td>\n",
              "      <td>2011</td>\n",
              "      <td>2020</td>\n",
              "    </tr>\n",
              "  </tbody>\n",
              "</table>\n",
              "</div>"
            ],
            "text/plain": [
              "     SEXO         NOME_CURSO  DATA_INGRESSO  DATACONCLUSAO\n",
              "7099    M  SEGURANÇA PÚBLICA           2017           2019\n",
              "7100    M  SEGURANÇA PÚBLICA           2017           2019\n",
              "7101    M  SEGURANÇA PÚBLICA           2015           2019\n",
              "7102    M  SEGURANÇA PÚBLICA           2016           2019\n",
              "7103    F            QUÍMICA           2011           2020"
            ]
          },
          "execution_count": 3,
          "metadata": {},
          "output_type": "execute_result"
        }
      ],
      "source": [
        "# Leitura dos datasets \"2019\", \"2020\" e \"2021\"\n",
        "\n",
        "df_dipl_2019 = pd.read_csv('2019.csv')\n",
        "df_dipl_2020 = pd.read_csv('2020.csv')\n",
        "df_dipl_2021 = pd.read_csv('2021.csv')\n",
        "df_dipl_2020.columns = df_dipl_2019.columns # Necessário pois o dataset '2020' estava sem cabeçalhos/nome_colunas\n",
        "df_dipl_ano = df_dipl_2019.append(df_dipl_2020, ignore_index=True) # O dataset df_dipl é a união dos demais (2019, 2020 e 2021)\n",
        "df_dipl_ano = df_dipl_ano.append(df_dipl_2021, ignore_index=True)\n",
        "df_dipl_ano = df_dipl_ano[['SEXO', 'NOME_CURSO', 'DATA_INGRESSO', 'DATACONCLUSAO']]\n",
        "cols_com_data_de_ingresso = df_dipl_ano.columns # Guardo as colunas para usá-las nos demais datasets (Padronização)\n",
        "df_dipl_ano.tail()"
      ]
    },
    {
      "cell_type": "code",
      "execution_count": 4,
      "metadata": {
        "colab": {
          "base_uri": "https://localhost:8080/",
          "height": 206
        },
        "id": "GQ3y47XgTIOV",
        "outputId": "adbe346d-7339-4d37-eb60-709d40f3aa24"
      },
      "outputs": [
        {
          "data": {
            "text/html": [
              "<div>\n",
              "<style scoped>\n",
              "    .dataframe tbody tr th:only-of-type {\n",
              "        vertical-align: middle;\n",
              "    }\n",
              "\n",
              "    .dataframe tbody tr th {\n",
              "        vertical-align: top;\n",
              "    }\n",
              "\n",
              "    .dataframe thead th {\n",
              "        text-align: right;\n",
              "    }\n",
              "</style>\n",
              "<table border=\"1\" class=\"dataframe\">\n",
              "  <thead>\n",
              "    <tr style=\"text-align: right;\">\n",
              "      <th></th>\n",
              "      <th>SEXO</th>\n",
              "      <th>NOME_CURSO</th>\n",
              "      <th>DATA_INGRESSO</th>\n",
              "      <th>DATACONCLUSAO</th>\n",
              "    </tr>\n",
              "  </thead>\n",
              "  <tbody>\n",
              "    <tr>\n",
              "      <th>2886</th>\n",
              "      <td>F</td>\n",
              "      <td>Medicina</td>\n",
              "      <td>2010</td>\n",
              "      <td>2016</td>\n",
              "    </tr>\n",
              "    <tr>\n",
              "      <th>2887</th>\n",
              "      <td>F</td>\n",
              "      <td>Toxicologia Analítica</td>\n",
              "      <td>2018</td>\n",
              "      <td>2021</td>\n",
              "    </tr>\n",
              "    <tr>\n",
              "      <th>2888</th>\n",
              "      <td>F</td>\n",
              "      <td>Medicina</td>\n",
              "      <td>2010</td>\n",
              "      <td>2016</td>\n",
              "    </tr>\n",
              "    <tr>\n",
              "      <th>2889</th>\n",
              "      <td>F</td>\n",
              "      <td>Medicina</td>\n",
              "      <td>2011</td>\n",
              "      <td>2016</td>\n",
              "    </tr>\n",
              "    <tr>\n",
              "      <th>2890</th>\n",
              "      <td>F</td>\n",
              "      <td>Medicina</td>\n",
              "      <td>2020</td>\n",
              "      <td>2021</td>\n",
              "    </tr>\n",
              "  </tbody>\n",
              "</table>\n",
              "</div>"
            ],
            "text/plain": [
              "     SEXO             NOME_CURSO  DATA_INGRESSO  DATACONCLUSAO\n",
              "2886    F               Medicina           2010           2016\n",
              "2887    F  Toxicologia Analítica           2018           2021\n",
              "2888    F               Medicina           2010           2016\n",
              "2889    F               Medicina           2011           2016\n",
              "2890    F               Medicina           2020           2021"
            ]
          },
          "execution_count": 4,
          "metadata": {},
          "output_type": "execute_result"
        }
      ],
      "source": [
        "# Leitura do dataset \"diplomados_graduacao\"\n",
        "\n",
        "df_dipl_graduacao = pd.read_csv('diplomados_graduacao.csv')\n",
        "\n",
        "df_dipl_graduacao = df_dipl_graduacao[['SEXO', 'NOME_CURSO_DIPLOMA', 'ANO_INGRESSO', 'ANO_EVASAO']]\n",
        "df_dipl_graduacao.columns = cols_com_data_de_ingresso\n",
        "df_dipl_graduacao.tail()"
      ]
    },
    {
      "cell_type": "code",
      "execution_count": 5,
      "metadata": {
        "colab": {
          "base_uri": "https://localhost:8080/",
          "height": 469
        },
        "id": "0R9kl0kDVIyJ",
        "outputId": "c01794bc-5ed8-43e3-de45-ac9c6ec1cb07"
      },
      "outputs": [
        {
          "data": {
            "text/html": [
              "<div>\n",
              "<style scoped>\n",
              "    .dataframe tbody tr th:only-of-type {\n",
              "        vertical-align: middle;\n",
              "    }\n",
              "\n",
              "    .dataframe tbody tr th {\n",
              "        vertical-align: top;\n",
              "    }\n",
              "\n",
              "    .dataframe thead th {\n",
              "        text-align: right;\n",
              "    }\n",
              "</style>\n",
              "<table border=\"1\" class=\"dataframe\">\n",
              "  <thead>\n",
              "    <tr style=\"text-align: right;\">\n",
              "      <th></th>\n",
              "      <th>SEXO</th>\n",
              "      <th>NOME_CURSO</th>\n",
              "      <th>DATA_INGRESSO</th>\n",
              "      <th>DATACONCLUSAO</th>\n",
              "    </tr>\n",
              "  </thead>\n",
              "  <tbody>\n",
              "    <tr>\n",
              "      <th>6453</th>\n",
              "      <td>F</td>\n",
              "      <td>CIÊNCIAS ECONÔMICAS</td>\n",
              "      <td>2015</td>\n",
              "      <td>2019</td>\n",
              "    </tr>\n",
              "    <tr>\n",
              "      <th>6454</th>\n",
              "      <td>M</td>\n",
              "      <td>SISTEMAS DE INFORMAÇÃO</td>\n",
              "      <td>2013</td>\n",
              "      <td>2020</td>\n",
              "    </tr>\n",
              "    <tr>\n",
              "      <th>6455</th>\n",
              "      <td>F</td>\n",
              "      <td>MEDICINA VETERINÁRIA</td>\n",
              "      <td>2013</td>\n",
              "      <td>2020</td>\n",
              "    </tr>\n",
              "    <tr>\n",
              "      <th>6456</th>\n",
              "      <td>F</td>\n",
              "      <td>ENFERMAGEM</td>\n",
              "      <td>2016</td>\n",
              "      <td>2021</td>\n",
              "    </tr>\n",
              "    <tr>\n",
              "      <th>6457</th>\n",
              "      <td>M</td>\n",
              "      <td>FÍSICA</td>\n",
              "      <td>2018</td>\n",
              "      <td>2020</td>\n",
              "    </tr>\n",
              "  </tbody>\n",
              "</table>\n",
              "</div>"
            ],
            "text/plain": [
              "     SEXO              NOME_CURSO  DATA_INGRESSO  DATACONCLUSAO\n",
              "6453    F     CIÊNCIAS ECONÔMICAS           2015           2019\n",
              "6454    M  SISTEMAS DE INFORMAÇÃO           2013           2020\n",
              "6455    F    MEDICINA VETERINÁRIA           2013           2020\n",
              "6456    F              ENFERMAGEM           2016           2021\n",
              "6457    M                  FÍSICA           2018           2020"
            ]
          },
          "execution_count": 5,
          "metadata": {},
          "output_type": "execute_result"
        }
      ],
      "source": [
        "# Leitura do dataset \"diplomas-20-maio-2021\", \"diplomas-jun-2021.csv\" e \"diplomas_jul_2021.csv\"\n",
        "\n",
        "df_dipl_maio_2021 = pd.read_csv( 'diplomas-20-maio-2021.csv' )\n",
        "df_dipl_junho_2021 = pd.read_csv( 'diplomas-jun-2021.csv' )\n",
        "df_dipl_julho_2021 = pd.read_csv( 'diplomas_jul_2021.csv' )\n",
        "df_dipl_mes = df_dipl_maio_2021.append(df_dipl_junho_2021, ignore_index=True)\n",
        "df_dipl_mes = df_dipl_mes.append(df_dipl_julho_2021, ignore_index=True)\n",
        "df_dipl_mes = df_dipl_mes[['SEXO', 'NOME_CURSO', 'DATA_INGRESSO', 'DATACONCLUSAO']]\n",
        "df_dipl_mes.columns = cols_com_data_de_ingresso\n",
        "df_dipl_mes.tail()"
      ]
    },
    {
      "cell_type": "code",
      "execution_count": 6,
      "metadata": {},
      "outputs": [
        {
          "data": {
            "text/html": [
              "<div>\n",
              "<style scoped>\n",
              "    .dataframe tbody tr th:only-of-type {\n",
              "        vertical-align: middle;\n",
              "    }\n",
              "\n",
              "    .dataframe tbody tr th {\n",
              "        vertical-align: top;\n",
              "    }\n",
              "\n",
              "    .dataframe thead th {\n",
              "        text-align: right;\n",
              "    }\n",
              "</style>\n",
              "<table border=\"1\" class=\"dataframe\">\n",
              "  <thead>\n",
              "    <tr style=\"text-align: right;\">\n",
              "      <th></th>\n",
              "      <th>SEXO</th>\n",
              "      <th>NOME_CURSO</th>\n",
              "      <th>DATA_INGRESSO</th>\n",
              "    </tr>\n",
              "  </thead>\n",
              "  <tbody>\n",
              "    <tr>\n",
              "      <th>6906</th>\n",
              "      <td>F</td>\n",
              "      <td>SAÚDE COLETIVA</td>\n",
              "      <td>2020</td>\n",
              "    </tr>\n",
              "    <tr>\n",
              "      <th>6907</th>\n",
              "      <td>F</td>\n",
              "      <td>SAÚDE COLETIVA</td>\n",
              "      <td>2020</td>\n",
              "    </tr>\n",
              "    <tr>\n",
              "      <th>6908</th>\n",
              "      <td>F</td>\n",
              "      <td>SAÚDE COLETIVA</td>\n",
              "      <td>2020</td>\n",
              "    </tr>\n",
              "    <tr>\n",
              "      <th>6909</th>\n",
              "      <td>M</td>\n",
              "      <td>SAÚDE COLETIVA</td>\n",
              "      <td>2020</td>\n",
              "    </tr>\n",
              "    <tr>\n",
              "      <th>6910</th>\n",
              "      <td>M</td>\n",
              "      <td>SAÚDE COLETIVA</td>\n",
              "      <td>2020</td>\n",
              "    </tr>\n",
              "  </tbody>\n",
              "</table>\n",
              "</div>"
            ],
            "text/plain": [
              "     SEXO      NOME_CURSO  DATA_INGRESSO\n",
              "6906    F  SAÚDE COLETIVA           2020\n",
              "6907    F  SAÚDE COLETIVA           2020\n",
              "6908    F  SAÚDE COLETIVA           2020\n",
              "6909    M  SAÚDE COLETIVA           2020\n",
              "6910    M  SAÚDE COLETIVA           2020"
            ]
          },
          "execution_count": 6,
          "metadata": {},
          "output_type": "execute_result"
        }
      ],
      "source": [
        "# Leitura do dataset \"discentes-ingressos-sisu-2020-ufpe\"\n",
        "\n",
        "df_ingressos_sisu = pd.read_csv( 'discentes-ingressos-sisu-2020-ufpe.csv' )\n",
        "\n",
        "df_ingressos_sisu = df_ingressos_sisu[['SEXO', 'CURSO', 'ANO_INGRESSO']]\n",
        "df_ingressos_sisu.columns = ['SEXO', 'NOME_CURSO', 'DATA_INGRESSO'] #Padronizando colunas\n",
        "df_ingressos_sisu.tail()"
      ]
    },
    {
      "cell_type": "code",
      "execution_count": 7,
      "metadata": {},
      "outputs": [
        {
          "name": "stderr",
          "output_type": "stream",
          "text": [
            "/Users/marina/Library/Python/3.8/lib/python/site-packages/IPython/core/interactiveshell.py:3444: FutureWarning: The error_bad_lines argument has been deprecated and will be removed in a future version.\n",
            "\n",
            "\n",
            "  exec(code_obj, self.user_global_ns, self.user_ns)\n",
            "/Users/marina/Library/Python/3.8/lib/python/site-packages/IPython/core/interactiveshell.py:3444: FutureWarning: The warn_bad_lines argument has been deprecated and will be removed in a future version.\n",
            "\n",
            "\n",
            "  exec(code_obj, self.user_global_ns, self.user_ns)\n"
          ]
        },
        {
          "data": {
            "text/html": [
              "<div>\n",
              "<style scoped>\n",
              "    .dataframe tbody tr th:only-of-type {\n",
              "        vertical-align: middle;\n",
              "    }\n",
              "\n",
              "    .dataframe tbody tr th {\n",
              "        vertical-align: top;\n",
              "    }\n",
              "\n",
              "    .dataframe thead th {\n",
              "        text-align: right;\n",
              "    }\n",
              "</style>\n",
              "<table border=\"1\" class=\"dataframe\">\n",
              "  <thead>\n",
              "    <tr style=\"text-align: right;\">\n",
              "      <th></th>\n",
              "      <th>SEXO</th>\n",
              "      <th>NOME_CURSO</th>\n",
              "      <th>DATA_INGRESSO</th>\n",
              "    </tr>\n",
              "  </thead>\n",
              "  <tbody>\n",
              "    <tr>\n",
              "      <th>434214</th>\n",
              "      <td>M</td>\n",
              "      <td>Operador de Computador</td>\n",
              "      <td>2017</td>\n",
              "    </tr>\n",
              "    <tr>\n",
              "      <th>434215</th>\n",
              "      <td>F</td>\n",
              "      <td>Inglês Intermediário</td>\n",
              "      <td>2018</td>\n",
              "    </tr>\n",
              "    <tr>\n",
              "      <th>434216</th>\n",
              "      <td>M</td>\n",
              "      <td>Inglês Básico</td>\n",
              "      <td>2018</td>\n",
              "    </tr>\n",
              "    <tr>\n",
              "      <th>434217</th>\n",
              "      <td>F</td>\n",
              "      <td>Espanhol Básico</td>\n",
              "      <td>2017</td>\n",
              "    </tr>\n",
              "    <tr>\n",
              "      <th>434218</th>\n",
              "      <td>M</td>\n",
              "      <td>Cadista para a Construção Civil</td>\n",
              "      <td>2013</td>\n",
              "    </tr>\n",
              "  </tbody>\n",
              "</table>\n",
              "</div>"
            ],
            "text/plain": [
              "       SEXO                       NOME_CURSO  DATA_INGRESSO\n",
              "434214    M           Operador de Computador           2017\n",
              "434215    F             Inglês Intermediário           2018\n",
              "434216    M                    Inglês Básico           2018\n",
              "434217    F                  Espanhol Básico           2017\n",
              "434218    M  Cadista para a Construção Civil           2013"
            ]
          },
          "execution_count": 7,
          "metadata": {},
          "output_type": "execute_result"
        }
      ],
      "source": [
        "# Leitura do dataset \"microdados-matriculas\"\n",
        "\n",
        "df_microdados_matriculas = pd.read_csv( 'microdados-matriculas.csv', encoding='latin-1', error_bad_lines=False, warn_bad_lines=False )\n",
        "\n",
        "#df_microdados_matriculas = np.where(df_microdados_matriculas['Situação da Matrícula'] == 'APROVADA')\n",
        "\n",
        "df_microdados_matriculas = df_microdados_matriculas[['Sexo', 'Nome do Curso', 'Dt Data Inicio']]\n",
        "df_microdados_matriculas.columns = ['SEXO', 'NOME_CURSO', 'DATA_INGRESSO'] #Padronizando colunas\n",
        "df_microdados_matriculas.tail()"
      ]
    },
    {
      "cell_type": "code",
      "execution_count": 8,
      "metadata": {
        "colab": {
          "base_uri": "https://localhost:8080/",
          "height": 206
        },
        "id": "5q-R5k7EWTWI",
        "outputId": "16432245-0795-41e7-dbba-caae7d8f0e25"
      },
      "outputs": [
        {
          "data": {
            "text/html": [
              "<div>\n",
              "<style scoped>\n",
              "    .dataframe tbody tr th:only-of-type {\n",
              "        vertical-align: middle;\n",
              "    }\n",
              "\n",
              "    .dataframe tbody tr th {\n",
              "        vertical-align: top;\n",
              "    }\n",
              "\n",
              "    .dataframe thead th {\n",
              "        text-align: right;\n",
              "    }\n",
              "</style>\n",
              "<table border=\"1\" class=\"dataframe\">\n",
              "  <thead>\n",
              "    <tr style=\"text-align: right;\">\n",
              "      <th></th>\n",
              "      <th>SEXO</th>\n",
              "      <th>NOME_CURSO</th>\n",
              "      <th>DATA_INGRESSO</th>\n",
              "    </tr>\n",
              "  </thead>\n",
              "  <tbody>\n",
              "    <tr>\n",
              "      <th>457578</th>\n",
              "      <td>M</td>\n",
              "      <td>Operador de Computador</td>\n",
              "      <td>2017</td>\n",
              "    </tr>\n",
              "    <tr>\n",
              "      <th>457579</th>\n",
              "      <td>F</td>\n",
              "      <td>Inglês Intermediário</td>\n",
              "      <td>2018</td>\n",
              "    </tr>\n",
              "    <tr>\n",
              "      <th>457580</th>\n",
              "      <td>M</td>\n",
              "      <td>Inglês Básico</td>\n",
              "      <td>2018</td>\n",
              "    </tr>\n",
              "    <tr>\n",
              "      <th>457581</th>\n",
              "      <td>F</td>\n",
              "      <td>Espanhol Básico</td>\n",
              "      <td>2017</td>\n",
              "    </tr>\n",
              "    <tr>\n",
              "      <th>457582</th>\n",
              "      <td>M</td>\n",
              "      <td>Cadista para a Construção Civil</td>\n",
              "      <td>2013</td>\n",
              "    </tr>\n",
              "  </tbody>\n",
              "</table>\n",
              "</div>"
            ],
            "text/plain": [
              "       SEXO                       NOME_CURSO  DATA_INGRESSO\n",
              "457578    M           Operador de Computador           2017\n",
              "457579    F             Inglês Intermediário           2018\n",
              "457580    M                    Inglês Básico           2018\n",
              "457581    F                  Espanhol Básico           2017\n",
              "457582    M  Cadista para a Construção Civil           2013"
            ]
          },
          "execution_count": 8,
          "metadata": {},
          "output_type": "execute_result"
        }
      ],
      "source": [
        "# DataFrame \"dados_matriculas\"\n",
        "# É a união de todos os datasets com data de matrículas.\n",
        "\n",
        "dados_matriculas = df_dipl_ano.append(df_dipl_graduacao, ignore_index=True)\n",
        "dados_matriculas = dados_matriculas.append(df_dipl_mes, ignore_index=True)\n",
        "dados_matriculas = dados_matriculas.append(df_ingressos_sisu, ignore_index=True)\n",
        "dados_matriculas = dados_matriculas.append(df_microdados_matriculas, ignore_index=True)\n",
        "dados_matriculas = dados_matriculas[['SEXO', 'NOME_CURSO', 'DATA_INGRESSO']]\n",
        "\n",
        "dados_matriculas.tail()"
      ]
    },
    {
      "cell_type": "code",
      "execution_count": 9,
      "metadata": {},
      "outputs": [
        {
          "data": {
            "text/html": [
              "<div>\n",
              "<style scoped>\n",
              "    .dataframe tbody tr th:only-of-type {\n",
              "        vertical-align: middle;\n",
              "    }\n",
              "\n",
              "    .dataframe tbody tr th {\n",
              "        vertical-align: top;\n",
              "    }\n",
              "\n",
              "    .dataframe thead th {\n",
              "        text-align: right;\n",
              "    }\n",
              "</style>\n",
              "<table border=\"1\" class=\"dataframe\">\n",
              "  <thead>\n",
              "    <tr style=\"text-align: right;\">\n",
              "      <th></th>\n",
              "      <th>SEXO</th>\n",
              "      <th>NOME_CURSO</th>\n",
              "      <th>DATACONCLUSAO</th>\n",
              "    </tr>\n",
              "  </thead>\n",
              "  <tbody>\n",
              "    <tr>\n",
              "      <th>17479</th>\n",
              "      <td>F</td>\n",
              "      <td>CIÊNCIAS ECONÔMICAS</td>\n",
              "      <td>2019</td>\n",
              "    </tr>\n",
              "    <tr>\n",
              "      <th>17480</th>\n",
              "      <td>M</td>\n",
              "      <td>SISTEMAS DE INFORMAÇÃO</td>\n",
              "      <td>2020</td>\n",
              "    </tr>\n",
              "    <tr>\n",
              "      <th>17481</th>\n",
              "      <td>F</td>\n",
              "      <td>MEDICINA VETERINÁRIA</td>\n",
              "      <td>2020</td>\n",
              "    </tr>\n",
              "    <tr>\n",
              "      <th>17482</th>\n",
              "      <td>F</td>\n",
              "      <td>ENFERMAGEM</td>\n",
              "      <td>2021</td>\n",
              "    </tr>\n",
              "    <tr>\n",
              "      <th>17483</th>\n",
              "      <td>M</td>\n",
              "      <td>FÍSICA</td>\n",
              "      <td>2020</td>\n",
              "    </tr>\n",
              "  </tbody>\n",
              "</table>\n",
              "</div>"
            ],
            "text/plain": [
              "      SEXO              NOME_CURSO  DATACONCLUSAO\n",
              "17479    F     CIÊNCIAS ECONÔMICAS           2019\n",
              "17480    M  SISTEMAS DE INFORMAÇÃO           2020\n",
              "17481    F    MEDICINA VETERINÁRIA           2020\n",
              "17482    F              ENFERMAGEM           2021\n",
              "17483    M                  FÍSICA           2020"
            ]
          },
          "execution_count": 9,
          "metadata": {},
          "output_type": "execute_result"
        }
      ],
      "source": [
        "# DataFrame \"dados_conclusao\"\n",
        "# É a união de todos os datasets com data de matrículas.\n",
        "\n",
        "dados_conclusao = df_rel_diplomados.append(df_dipl_ano, ignore_index=True)\n",
        "dados_conclusao = dados_conclusao.append(df_dipl_graduacao, ignore_index=True)\n",
        "dados_conclusao = dados_conclusao.append(df_dipl_mes, ignore_index=True)\n",
        "dados_conclusao = dados_conclusao[['SEXO', 'NOME_CURSO', 'DATACONCLUSAO']]\n",
        "dados_conclusao.tail()"
      ]
    },
    {
      "cell_type": "code",
      "execution_count": 10,
      "metadata": {},
      "outputs": [
        {
          "data": {
            "image/png": "[encoded data removed]",
            "text/plain": [
              "<Figure size 1656x432 with 1 Axes>"
            ]
          },
          "metadata": {
            "needs_background": "light"
          },
          "output_type": "display_data"
        }
      ],
      "source": [
        "# Gráfico de Procura feminina vs. concluintes feminina\n",
        "\n",
        "qtd_mulheres_concluintes = dados_conclusao.loc[dados_conclusao['SEXO'] == 'F'].groupby('SEXO').count().reset_index()\n",
        "qtd_homens_concluintes = dados_conclusao.loc[dados_conclusao['SEXO'] == 'M'].groupby('SEXO').count().reset_index()\n",
        "qtd_homens_matriculados = dados_matriculas.loc[dados_matriculas['SEXO'] == 'M'].groupby('SEXO').count().reset_index()\n",
        "qtd_mulheres_matriculadas = dados_matriculas.loc[dados_matriculas['SEXO'] == 'F'].groupby('SEXO').count().reset_index()\n",
        "\n",
        "qtd_matriculados = qtd_mulheres_matriculadas.append(qtd_homens_matriculados)\n",
        "qtd_concluintes = qtd_mulheres_concluintes.append(qtd_homens_concluintes)\n",
        "\n",
        "labels = ['Mulheres', 'Homens']\n",
        "\n",
        "# data to plot\n",
        "n_groups = 2\n",
        "\n",
        "# create plot\n",
        "fig = plt.subplots(figsize=(23,6))\n",
        "index = np.arange(n_groups)\n",
        "bar_width = 0.35\n",
        "opacity = 0.8\n",
        "\n",
        "rects1 = plt.bar(index, qtd_matriculados['DATA_INGRESSO'], bar_width,\n",
        "alpha=opacity,\n",
        "color='b',\n",
        "label='Matriculados')\n",
        "\n",
        "rects2 = plt.bar(index + bar_width, qtd_concluintes['DATACONCLUSAO'], bar_width,\n",
        "alpha=opacity,\n",
        "color='c',\n",
        "label='Concluintes')\n",
        "\n",
        "plt.xlabel('Sexo')\n",
        "plt.ylabel('Quantidade')\n",
        "plt.title('Matriculados vs. Concluintes de cursos no geral')\n",
        "plt.xticks(index + bar_width, (labels))\n",
        "plt.legend()\n",
        "\n",
        "plt.show()\n"
      ]
    },
    {
      "cell_type": "code",
      "execution_count": 11,
      "metadata": {
        "colab": {
          "base_uri": "https://localhost:8080/",
          "height": 143
        },
        "id": "xseYGmpf-4eT",
        "outputId": "714baf0a-4270-4621-d16a-8e75f2067cdd"
      },
      "outputs": [
        {
          "name": "stdout",
          "output_type": "stream",
          "text": [
            "               NOME_CURSO SEXO  DATACONCLUSAO\n",
            "0           ADMINISTRAÇÃO    M            171\n",
            "1   ADMINISTRAÇÃO PÚBLICA    M            271\n",
            "2                 DIREITO    M            264\n",
            "3  ENGENHARIA DE PRODUÇÃO    M            245\n",
            "4               GEOGRAFIA    M            203\n",
            "5                HISTÓRIA    M            194\n",
            "6                  LETRAS    M            108\n",
            "7                Medicina    M            545\n",
            "8              PSICOLOGIA    M            113\n",
            "9       SEGURANÇA PÚBLICA    M           1257\n",
            "               NOME_CURSO SEXO  DATACONCLUSAO\n",
            "0           ADMINISTRAÇÃO    F            196\n",
            "1   ADMINISTRAÇÃO PÚBLICA    F            308\n",
            "2                 DIREITO    F            461\n",
            "3  ENGENHARIA DE PRODUÇÃO    F            197\n",
            "4               GEOGRAFIA    F            194\n",
            "5                HISTÓRIA    F            157\n",
            "6                  LETRAS    F            286\n",
            "7                Medicina    F            557\n",
            "8              PSICOLOGIA    F            419\n",
            "9       SEGURANÇA PÚBLICA    F            225\n"
          ]
        }
      ],
      "source": [
        "# Filtrando número de estudantes concluintes por sexo nos top 10 cursos\n",
        "\n",
        "concluintes_ordenados = dados_conclusao.groupby('NOME_CURSO').count().sort_values('DATACONCLUSAO', ascending=False).reset_index()[:11]\n",
        "\n",
        "#print(concluintes_ordenados)\n",
        "\n",
        "top_10_concluintes = dados_conclusao.loc[(dados_conclusao['NOME_CURSO'] == 'SEGURANÇA PÚBLICA') | (dados_conclusao['NOME_CURSO'] == 'Medicina') |\n",
        "(dados_conclusao['NOME_CURSO'] == 'DIREITO') | (dados_conclusao['NOME_CURSO'] == 'ADMINISTRAÇÃO PÚBLICA') | (dados_conclusao['NOME_CURSO'] == 'PSICOLOGIA') |\n",
        "(dados_conclusao['NOME_CURSO'] == 'ENGENHARIA DE PRODUÇÃO') | (dados_conclusao['NOME_CURSO'] == 'LETRAS') | (dados_conclusao['NOME_CURSO'] == 'GEOGRAFIA') |\n",
        "(dados_conclusao['NOME_CURSO'] == 'ADMINISTRAÇÃO') | (dados_conclusao['NOME_CURSO'] == 'HISTÓRIA')\n",
        "].groupby(['NOME_CURSO', 'SEXO']).count().reset_index()\n",
        "\n",
        "top_10_concluintes_mulheres = top_10_concluintes.loc[top_10_concluintes['SEXO'] == 'F'].groupby(['NOME_CURSO', 'SEXO', 'DATACONCLUSAO']).count().reset_index()\n",
        "top_10_concluintes_homens = top_10_concluintes.loc[top_10_concluintes['SEXO'] == 'M'].groupby(['NOME_CURSO', 'SEXO', 'DATACONCLUSAO']).count().reset_index()\n",
        "\n",
        "print(top_10_concluintes_homens)\n",
        "print(top_10_concluintes_mulheres)\n"
      ]
    },
    {
      "cell_type": "code",
      "execution_count": 12,
      "metadata": {},
      "outputs": [
        {
          "name": "stdout",
          "output_type": "stream",
          "text": [
            "               NOME_CURSO SEXO  DATA_INGRESSO\n",
            "0        ABI - ENGENHARIA    M            460\n",
            "1           ADMINISTRAÇÃO    M            354\n",
            "2     CIÊNCIAS ECONÔMICAS    M            316\n",
            "3                 DIREITO    M            362\n",
            "4  ENGENHARIA DE PRODUÇÃO    M            309\n",
            "5                  LETRAS    M            108\n",
            "6                Medicina    M            530\n",
            "7               PEDAGOGIA    M             82\n",
            "8              PSICOLOGIA    M            143\n",
            "9       SEGURANÇA PÚBLICA    M           1257\n",
            "               NOME_CURSO SEXO  DATA_INGRESSO\n",
            "0        ABI - ENGENHARIA    F            148\n",
            "1           ADMINISTRAÇÃO    F            301\n",
            "2     CIÊNCIAS ECONÔMICAS    F            171\n",
            "3                 DIREITO    F            611\n",
            "4  ENGENHARIA DE PRODUÇÃO    F            251\n",
            "5                  LETRAS    F            286\n",
            "6                Medicina    F            529\n",
            "7               PEDAGOGIA    F            539\n",
            "8              PSICOLOGIA    F            469\n",
            "9       SEGURANÇA PÚBLICA    F            225\n"
          ]
        }
      ],
      "source": [
        "# Filtrando número de procura de estudantes nos top 10 cursos\n",
        "\n",
        "matriculados_ordenados = dados_matriculas.groupby('NOME_CURSO').count().sort_values('DATA_INGRESSO', ascending=False).reset_index()[:11]\n",
        "\n",
        "#print(matriculados_ordenados)\n",
        "\n",
        "top_10_matriculados = dados_matriculas.loc[(dados_matriculas['NOME_CURSO'] == 'SEGURANÇA PÚBLICA') | (dados_matriculas['NOME_CURSO'] == 'Medicina') |\n",
        "(dados_matriculas['NOME_CURSO'] == 'DIREITO') | (dados_matriculas['NOME_CURSO'] == 'PEDAGOGIA') | (dados_matriculas['NOME_CURSO'] == 'PSICOLOGIA') |\n",
        "(dados_matriculas['NOME_CURSO'] == 'ENGENHARIA DE PRODUÇÃO') | (dados_matriculas['NOME_CURSO'] == 'LETRAS') | (dados_matriculas['NOME_CURSO'] == 'CIÊNCIAS ECONÔMICAS') |\n",
        "(dados_matriculas['NOME_CURSO'] == 'ADMINISTRAÇÃO') | (dados_matriculas['NOME_CURSO'] == 'ABI - ENGENHARIA')\n",
        "].groupby(['NOME_CURSO', 'SEXO']).count().reset_index()\n",
        "\n",
        "top_10_matriculados_mulheres = top_10_matriculados.loc[top_10_matriculados['SEXO'] == 'F'].groupby(['NOME_CURSO', 'SEXO', 'DATA_INGRESSO']).count().reset_index()\n",
        "top_10_matriculados_homens = top_10_matriculados.loc[top_10_matriculados['SEXO'] == 'M'].groupby(['NOME_CURSO', 'SEXO', 'DATA_INGRESSO']).count().reset_index()\n",
        "\n",
        "print(top_10_matriculados_homens)\n",
        "print(top_10_matriculados_mulheres)"
      ]
    },
    {
      "cell_type": "code",
      "execution_count": 13,
      "metadata": {
        "colab": {
          "base_uri": "https://localhost:8080/",
          "height": 476
        },
        "id": "g9O1IJpclnbw",
        "outputId": "c9a8cd1f-9dba-4394-ca88-9f1c1af99287"
      },
      "outputs": [
        {
          "data": {
            "image/png": "[encoded data removed]",
            "text/plain": [
              "<Figure size 1656x432 with 1 Axes>"
            ]
          },
          "metadata": {
            "needs_background": "light"
          },
          "output_type": "display_data"
        }
      ],
      "source": [
        "# Gráfico: Conclusão Geral - TOP 10 cursos\n",
        "\n",
        "# data to plot\n",
        "n_groups = 10\n",
        "\n",
        "# create plot\n",
        "fig = plt.subplots(figsize=(23,6))\n",
        "index = np.arange(n_groups)\n",
        "bar_width = 0.35\n",
        "opacity = 0.8\n",
        "\n",
        "rects1 = plt.bar(index, top_10_concluintes_homens['DATACONCLUSAO'], bar_width,\n",
        "alpha=opacity,\n",
        "color='b',\n",
        "label='Homens')\n",
        "\n",
        "rects2 = plt.bar(index + bar_width, top_10_concluintes_mulheres['DATACONCLUSAO'], bar_width,\n",
        "alpha=opacity,\n",
        "color='c',\n",
        "label='Mulheres')\n",
        "\n",
        "plt.xlabel('Cursos')\n",
        "plt.ylabel('Quantidade')\n",
        "plt.title('Quantidade de homens e mulheres concluintes - TOP 10 CURSOS')\n",
        "plt.xticks(index + bar_width, (top_10_concluintes_mulheres['NOME_CURSO']))\n",
        "plt.legend()\n",
        "\n",
        "plt.show()"
      ]
    },
    {
      "cell_type": "code",
      "execution_count": 14,
      "metadata": {},
      "outputs": [
        {
          "data": {
            "image/png": "[encoded data removed]",
            "text/plain": [
              "<Figure size 1656x432 with 1 Axes>"
            ]
          },
          "metadata": {
            "needs_background": "light"
          },
          "output_type": "display_data"
        }
      ],
      "source": [
        "# Gráfico: Procura Geral - TOP 10 cursos\n",
        "\n",
        "# data to plot\n",
        "n_groups = 10\n",
        "\n",
        "# create plot\n",
        "fig = plt.subplots(figsize=(23,6))\n",
        "index = np.arange(n_groups)\n",
        "bar_width = 0.35\n",
        "opacity = 0.8\n",
        "\n",
        "rects1 = plt.bar(index, top_10_matriculados_homens['DATA_INGRESSO'], bar_width,\n",
        "alpha=opacity,\n",
        "color='b',\n",
        "label='Homens')\n",
        "\n",
        "rects2 = plt.bar(index + bar_width, top_10_matriculados_mulheres['DATA_INGRESSO'], bar_width,\n",
        "alpha=opacity,\n",
        "color='c',\n",
        "label='Mulheres')\n",
        "\n",
        "plt.xlabel('Cursos')\n",
        "plt.ylabel('Quantidade')\n",
        "plt.title('Quantidade de procura de homens e mulheres - TOP 10 CURSOS')\n",
        "plt.xticks(index + bar_width, (top_10_matriculados_mulheres['NOME_CURSO']))\n",
        "plt.legend()\n",
        "\n",
        "plt.show()"
      ]
    },
    {
      "cell_type": "code",
      "execution_count": 15,
      "metadata": {},
      "outputs": [
        {
          "data": {
            "image/png": "[encoded data removed]",
            "text/plain": [
              "<Figure size 1584x432 with 1 Axes>"
            ]
          },
          "metadata": {
            "needs_background": "light"
          },
          "output_type": "display_data"
        }
      ],
      "source": [
        "# Grafico: Conclusão área de TI  \n",
        "\n",
        "concluintes_by_sexo = dados_conclusao.groupby(['SEXO', 'NOME_CURSO']).count().reset_index()\n",
        "\n",
        "conlusao_feminina = concluintes_by_sexo.loc[concluintes_by_sexo['SEXO'] == 'F'].groupby(['NOME_CURSO', 'SEXO', 'DATACONCLUSAO']).count().reset_index()\n",
        "conclusao_masculina = concluintes_by_sexo.loc[concluintes_by_sexo['SEXO'] == 'M'].groupby(['NOME_CURSO', 'SEXO', 'DATACONCLUSAO']).count().reset_index()\n",
        "conclusao_feminina_ti = conlusao_feminina[conlusao_feminina['NOME_CURSO'].str.contains('SISTEMAS|INFORMÁTICA|INFORMATICA|COMPUTAÇÃO|INFORMACAO|INFORMAÇÃO|DESENVOLVIMENTO')]\n",
        "conclusao_masculina_ti = conclusao_masculina[conclusao_masculina['NOME_CURSO'].str.contains('SISTEMAS|INFORMÁTICA|INFORMATICA|COMPUTAÇÃO|INFORMACAO|INFORMAÇÃO|DESENVOLVIMENTO')]\n",
        "\n",
        "# data to plot\n",
        "n_groups = 4\n",
        "\n",
        "# create plot\n",
        "fig = plt.subplots(figsize=(22,6))\n",
        "index = np.arange(n_groups)\n",
        "bar_width = 0.35\n",
        "opacity = 0.8\n",
        "\n",
        "rects1 = plt.bar(index, conclusao_masculina_ti['DATACONCLUSAO'], bar_width,\n",
        "alpha=opacity,\n",
        "color='b',\n",
        "label='Homens')\n",
        "\n",
        "rects2 = plt.bar(index + bar_width, conclusao_feminina_ti['DATACONCLUSAO'], bar_width,\n",
        "alpha=opacity,\n",
        "color='c',\n",
        "label='Mulheres')\n",
        "\n",
        "plt.xlabel('Cursos')\n",
        "plt.ylabel('Quantidade')\n",
        "plt.title('Quantidade de homens e mulheres concluintes por curso de TI')\n",
        "plt.xticks(index + bar_width, (conclusao_feminina_ti['NOME_CURSO']))\n",
        "plt.legend()\n",
        "\n",
        "plt.show()"
      ]
    },
    {
      "cell_type": "code",
      "execution_count": 16,
      "metadata": {},
      "outputs": [
        {
          "name": "stdout",
          "output_type": "stream",
          "text": [
            "                                        NOME_CURSO SEXO  DATA_INGRESSO\n",
            "82                           CIÊNCIA DA COMPUTAÇÃO    F             24\n",
            "83                     CIÊNCIA DA COMPUTAÇÃO - CIN    F             12\n",
            "97                                      COMPUTAÇÃO    F              3\n",
            "99   CURSO SUP. DE TECN. EM SISTEMAS DE COMPUTAÇÃO    F             41\n",
            "166                       ENGENHARIA DA COMPUTAÇÃO    F             13\n",
            "263                           GESTÃO DA INFORMAÇÃO    F             15\n",
            "476                         SISTEMAS DE INFORMAÇÃO    F             39\n",
            "                                        NOME_CURSO SEXO  DATA_INGRESSO\n",
            "83                           CIÊNCIA DA COMPUTAÇÃO    M             81\n",
            "84                     CIÊNCIA DA COMPUTAÇÃO - CIN    M             88\n",
            "98                                      COMPUTAÇÃO    M              7\n",
            "100  CURSO SUP. DE TECN. EM SISTEMAS DE COMPUTAÇÃO    M            206\n",
            "167                       ENGENHARIA DA COMPUTAÇÃO    M             87\n",
            "263                           GESTÃO DA INFORMAÇÃO    M             40\n",
            "472                         SISTEMAS DE INFORMAÇÃO    M            147\n"
          ]
        },
        {
          "data": {
            "image/png": "[encoded data removed]",
            "text/plain": [
              "<Figure size 2304x432 with 1 Axes>"
            ]
          },
          "metadata": {
            "needs_background": "light"
          },
          "output_type": "display_data"
        }
      ],
      "source": [
        "# Grafico: Procura área de TI  \n",
        "\n",
        "matriculados_by_sexo = dados_matriculas.groupby(['NOME_CURSO', 'SEXO']).count().reset_index()\n",
        "\n",
        "matriculas_feminina = matriculados_by_sexo.loc[matriculados_by_sexo['SEXO'] == 'F'].groupby(['NOME_CURSO', 'SEXO', 'DATA_INGRESSO']).count().reset_index()\n",
        "matriculas_masculina = matriculados_by_sexo.loc[matriculados_by_sexo['SEXO'] == 'M'].groupby(['NOME_CURSO', 'SEXO', 'DATA_INGRESSO']).count().reset_index()\n",
        "\n",
        "matriculas_feminina_ti = matriculas_feminina[matriculas_feminina['NOME_CURSO'].str.contains('SISTEMAS|INFORMÁTICA|INFORMATICA|COMPUTAÇÃO|COMPUTACAO|INFORMACAO|INFORMAÇÃO|DESENVOLVIMENTO')]\n",
        "matriculas_masculina_ti = matriculas_masculina[matriculas_masculina['NOME_CURSO'].str.contains('SISTEMAS|INFORMÁTICA|INFORMATICA|COMPUTAÇÃO|COMPUTACAO|INFORMACAO|INFORMAÇÃO|DESENVOLVIMENTO')]\n",
        "\n",
        "print(matriculas_feminina_ti)\n",
        "print(matriculas_masculina_ti)\n",
        "\n",
        "# data to plot\n",
        "n_groups = 7\n",
        "\n",
        "# create plot\n",
        "fig = plt.subplots(figsize=(32,6))\n",
        "index = np.arange(n_groups)\n",
        "bar_width = 0.35\n",
        "opacity = 0.8\n",
        "\n",
        "rects1 = plt.bar(index, matriculas_masculina_ti['DATA_INGRESSO'], bar_width,\n",
        "alpha=opacity,\n",
        "color='b',\n",
        "label='Homens')\n",
        "\n",
        "rects2 = plt.bar(index + bar_width, matriculas_feminina_ti['DATA_INGRESSO'], bar_width,\n",
        "alpha=opacity,\n",
        "color='c',\n",
        "label='Mulheres')\n",
        "\n",
        "plt.xlabel('Cursos')\n",
        "plt.ylabel('Quantidade')\n",
        "plt.title('Quantidade de procura de homens e mulheres por curso de TI')\n",
        "plt.xticks(index + bar_width, (matriculas_feminina_ti['NOME_CURSO']))\n",
        "plt.legend()\n",
        "\n",
        "plt.show()"
      ]
    }
  ],
  "metadata": {
    "colab": {
      "collapsed_sections": [],
      "name": "tcc_marina.ipynb",
      "provenance": []
    },
    "interpreter": {
      "hash": "31f2aee4e71d21fbe5cf8b01ff0e069b9275f58929596ceb00d14d90e3e16cd6"
    },
    "kernelspec": {
      "display_name": "Python 3.8.2 64-bit",
      "name": "python3"
    },
    "language_info": {
      "codemirror_mode": {
        "name": "ipython",
        "version": 3
      },
      "file_extension": ".py",
      "mimetype": "text/x-python",
      "name": "python",
      "nbconvert_exporter": "python",
      "pygments_lexer": "ipython3",
      "version": "3.8.2"
    }
  },
  "nbformat": 4,
  "nbformat_minor": 0
}
