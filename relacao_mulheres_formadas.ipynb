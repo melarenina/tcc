{
  "cells": [
    {
      "cell_type": "markdown",
      "metadata": {
        "id": "x-paGU2DumPM"
      },
      "source": [
        "## Relação de mulheres formadas\n"
      ]
    },
    {
      "cell_type": "code",
      "execution_count": 10,
      "metadata": {
        "id": "Cm4XzaC6rKG3"
      },
      "outputs": [],
      "source": [
        "import pandas as pd\n",
        "from matplotlib import pyplot as plt"
      ]
    },
    {
      "cell_type": "code",
      "execution_count": 11,
      "metadata": {
        "colab": {
          "base_uri": "https://localhost:8080/",
          "height": 206
        },
        "id": "fecw780IrSCI",
        "outputId": "e1588a5d-541f-4c4b-fccb-62192977e4a4"
      },
      "outputs": [
        {
          "data": {
            "text/html": [
              "<div>\n",
              "<style scoped>\n",
              "    .dataframe tbody tr th:only-of-type {\n",
              "        vertical-align: middle;\n",
              "    }\n",
              "\n",
              "    .dataframe tbody tr th {\n",
              "        vertical-align: top;\n",
              "    }\n",
              "\n",
              "    .dataframe thead th {\n",
              "        text-align: right;\n",
              "    }\n",
              "</style>\n",
              "<table border=\"1\" class=\"dataframe\">\n",
              "  <thead>\n",
              "    <tr style=\"text-align: right;\">\n",
              "      <th></th>\n",
              "      <th>SEXO</th>\n",
              "      <th>CURSO</th>\n",
              "    </tr>\n",
              "  </thead>\n",
              "  <tbody>\n",
              "    <tr>\n",
              "      <th>1026</th>\n",
              "      <td>M</td>\n",
              "      <td>Engenharia Sanitária e Ambiental</td>\n",
              "    </tr>\n",
              "    <tr>\n",
              "      <th>1027</th>\n",
              "      <td>M</td>\n",
              "      <td>Engenharia Sanitária e Ambiental</td>\n",
              "    </tr>\n",
              "    <tr>\n",
              "      <th>1028</th>\n",
              "      <td>M</td>\n",
              "      <td>Engenharia Civil</td>\n",
              "    </tr>\n",
              "    <tr>\n",
              "      <th>1029</th>\n",
              "      <td>F</td>\n",
              "      <td>Geologia</td>\n",
              "    </tr>\n",
              "    <tr>\n",
              "      <th>1030</th>\n",
              "      <td>M</td>\n",
              "      <td>Mestrado Profissional em Matemática</td>\n",
              "    </tr>\n",
              "  </tbody>\n",
              "</table>\n",
              "</div>"
            ],
            "text/plain": [
              "     SEXO                                CURSO\n",
              "1026    M     Engenharia Sanitária e Ambiental\n",
              "1027    M     Engenharia Sanitária e Ambiental\n",
              "1028    M                     Engenharia Civil\n",
              "1029    F                             Geologia\n",
              "1030    M  Mestrado Profissional em Matemática"
            ]
          },
          "execution_count": 11,
          "metadata": {},
          "output_type": "execute_result"
        }
      ],
      "source": [
        "# Leitura do dataset \"relacao-diplomados\"\n",
        "\n",
        "df_rel_diplomados = pd.read_csv('relacao-diplomados.csv')\n",
        "df_rel_diplomados = df_rel_diplomados[['SEXO', 'CURSO']]\n",
        "cols = df_rel_diplomados.columns # Guardo as colunas para usá-las nos demais datasets (Padronização)\n",
        "df_rel_diplomados.tail()"
      ]
    },
    {
      "cell_type": "code",
      "execution_count": 12,
      "metadata": {
        "colab": {
          "base_uri": "https://localhost:8080/",
          "height": 206
        },
        "id": "M_dsA_VKNeQq",
        "outputId": "c62600d5-95a9-479b-c698-a3a1860d5987"
      },
      "outputs": [
        {
          "data": {
            "text/html": [
              "<div>\n",
              "<style scoped>\n",
              "    .dataframe tbody tr th:only-of-type {\n",
              "        vertical-align: middle;\n",
              "    }\n",
              "\n",
              "    .dataframe tbody tr th {\n",
              "        vertical-align: top;\n",
              "    }\n",
              "\n",
              "    .dataframe thead th {\n",
              "        text-align: right;\n",
              "    }\n",
              "</style>\n",
              "<table border=\"1\" class=\"dataframe\">\n",
              "  <thead>\n",
              "    <tr style=\"text-align: right;\">\n",
              "      <th></th>\n",
              "      <th>SEXO</th>\n",
              "      <th>CURSO</th>\n",
              "    </tr>\n",
              "  </thead>\n",
              "  <tbody>\n",
              "    <tr>\n",
              "      <th>7099</th>\n",
              "      <td>M</td>\n",
              "      <td>SEGURANÇA PÚBLICA</td>\n",
              "    </tr>\n",
              "    <tr>\n",
              "      <th>7100</th>\n",
              "      <td>M</td>\n",
              "      <td>SEGURANÇA PÚBLICA</td>\n",
              "    </tr>\n",
              "    <tr>\n",
              "      <th>7101</th>\n",
              "      <td>M</td>\n",
              "      <td>SEGURANÇA PÚBLICA</td>\n",
              "    </tr>\n",
              "    <tr>\n",
              "      <th>7102</th>\n",
              "      <td>M</td>\n",
              "      <td>SEGURANÇA PÚBLICA</td>\n",
              "    </tr>\n",
              "    <tr>\n",
              "      <th>7103</th>\n",
              "      <td>F</td>\n",
              "      <td>QUÍMICA</td>\n",
              "    </tr>\n",
              "  </tbody>\n",
              "</table>\n",
              "</div>"
            ],
            "text/plain": [
              "     SEXO              CURSO\n",
              "7099    M  SEGURANÇA PÚBLICA\n",
              "7100    M  SEGURANÇA PÚBLICA\n",
              "7101    M  SEGURANÇA PÚBLICA\n",
              "7102    M  SEGURANÇA PÚBLICA\n",
              "7103    F            QUÍMICA"
            ]
          },
          "execution_count": 12,
          "metadata": {},
          "output_type": "execute_result"
        }
      ],
      "source": [
        "# Leitura dos datasets \"2019\", \"2020\" e \"2021\"\n",
        "\n",
        "df_dipl_2019 = pd.read_csv('2019.csv')\n",
        "df_dipl_2020 = pd.read_csv('2020.csv')\n",
        "df_dipl_2021 = pd.read_csv('2021.csv')\n",
        "df_dipl_2020.columns = df_dipl_2019.columns # Necessário pois o dataset '2020' estava sem cabeçalhos/nome_colunas\n",
        "df_dipl_ano = df_dipl_2019.append(df_dipl_2020, ignore_index=True) # O dataset df_dipl é a união dos demais (2019, 2020 e 2021)\n",
        "df_dipl_ano = df_dipl_ano.append(df_dipl_2021, ignore_index=True)\n",
        "df_dipl_ano = df_dipl_ano[['SEXO', 'NOME_CURSO']]\n",
        "df_dipl_ano.columns = cols # Padronização dos nomes das colunas\n",
        "df_dipl_ano.tail()"
      ]
    },
    {
      "cell_type": "code",
      "execution_count": 13,
      "metadata": {
        "colab": {
          "base_uri": "https://localhost:8080/",
          "height": 206
        },
        "id": "GQ3y47XgTIOV",
        "outputId": "adbe346d-7339-4d37-eb60-709d40f3aa24"
      },
      "outputs": [
        {
          "data": {
            "text/html": [
              "<div>\n",
              "<style scoped>\n",
              "    .dataframe tbody tr th:only-of-type {\n",
              "        vertical-align: middle;\n",
              "    }\n",
              "\n",
              "    .dataframe tbody tr th {\n",
              "        vertical-align: top;\n",
              "    }\n",
              "\n",
              "    .dataframe thead th {\n",
              "        text-align: right;\n",
              "    }\n",
              "</style>\n",
              "<table border=\"1\" class=\"dataframe\">\n",
              "  <thead>\n",
              "    <tr style=\"text-align: right;\">\n",
              "      <th></th>\n",
              "      <th>SEXO</th>\n",
              "      <th>CURSO</th>\n",
              "    </tr>\n",
              "  </thead>\n",
              "  <tbody>\n",
              "    <tr>\n",
              "      <th>2886</th>\n",
              "      <td>F</td>\n",
              "      <td>Medicina</td>\n",
              "    </tr>\n",
              "    <tr>\n",
              "      <th>2887</th>\n",
              "      <td>F</td>\n",
              "      <td>Toxicologia Analítica</td>\n",
              "    </tr>\n",
              "    <tr>\n",
              "      <th>2888</th>\n",
              "      <td>F</td>\n",
              "      <td>Medicina</td>\n",
              "    </tr>\n",
              "    <tr>\n",
              "      <th>2889</th>\n",
              "      <td>F</td>\n",
              "      <td>Medicina</td>\n",
              "    </tr>\n",
              "    <tr>\n",
              "      <th>2890</th>\n",
              "      <td>F</td>\n",
              "      <td>Medicina</td>\n",
              "    </tr>\n",
              "  </tbody>\n",
              "</table>\n",
              "</div>"
            ],
            "text/plain": [
              "     SEXO                  CURSO\n",
              "2886    F               Medicina\n",
              "2887    F  Toxicologia Analítica\n",
              "2888    F               Medicina\n",
              "2889    F               Medicina\n",
              "2890    F               Medicina"
            ]
          },
          "execution_count": 13,
          "metadata": {},
          "output_type": "execute_result"
        }
      ],
      "source": [
        "# Leitura do dataset \"diplomados_graduacao\"\n",
        "\n",
        "df_dipl_graduacao = pd.read_csv('diplomados_graduacao.csv')\n",
        "df_dipl_graduacao = df_dipl_graduacao[['SEXO', 'NOME_CURSO_DIPLOMA']]\n",
        "df_dipl_graduacao.columns = cols\n",
        "df_dipl_graduacao.tail()"
      ]
    },
    {
      "cell_type": "code",
      "execution_count": 14,
      "metadata": {},
      "outputs": [
        {
          "data": {
            "text/html": [
              "<div>\n",
              "<style scoped>\n",
              "    .dataframe tbody tr th:only-of-type {\n",
              "        vertical-align: middle;\n",
              "    }\n",
              "\n",
              "    .dataframe tbody tr th {\n",
              "        vertical-align: top;\n",
              "    }\n",
              "\n",
              "    .dataframe thead th {\n",
              "        text-align: right;\n",
              "    }\n",
              "</style>\n",
              "<table border=\"1\" class=\"dataframe\">\n",
              "  <thead>\n",
              "    <tr style=\"text-align: right;\">\n",
              "      <th></th>\n",
              "      <th>SEXO</th>\n",
              "      <th>NOME_CURSO_DIPLOMA</th>\n",
              "      <th>MODALIDADE</th>\n",
              "    </tr>\n",
              "  </thead>\n",
              "  <tbody>\n",
              "    <tr>\n",
              "      <th>2886</th>\n",
              "      <td>F</td>\n",
              "      <td>Medicina</td>\n",
              "      <td>Bacharelado</td>\n",
              "    </tr>\n",
              "    <tr>\n",
              "      <th>2887</th>\n",
              "      <td>F</td>\n",
              "      <td>Toxicologia Analítica</td>\n",
              "      <td>Tecnológico</td>\n",
              "    </tr>\n",
              "    <tr>\n",
              "      <th>2888</th>\n",
              "      <td>F</td>\n",
              "      <td>Medicina</td>\n",
              "      <td>Bacharelado</td>\n",
              "    </tr>\n",
              "    <tr>\n",
              "      <th>2889</th>\n",
              "      <td>F</td>\n",
              "      <td>Medicina</td>\n",
              "      <td>Bacharelado</td>\n",
              "    </tr>\n",
              "    <tr>\n",
              "      <th>2890</th>\n",
              "      <td>F</td>\n",
              "      <td>Medicina</td>\n",
              "      <td>Bacharelado</td>\n",
              "    </tr>\n",
              "  </tbody>\n",
              "</table>\n",
              "</div>"
            ],
            "text/plain": [
              "     SEXO     NOME_CURSO_DIPLOMA   MODALIDADE\n",
              "2886    F               Medicina  Bacharelado\n",
              "2887    F  Toxicologia Analítica  Tecnológico\n",
              "2888    F               Medicina  Bacharelado\n",
              "2889    F               Medicina  Bacharelado\n",
              "2890    F               Medicina  Bacharelado"
            ]
          },
          "execution_count": 14,
          "metadata": {},
          "output_type": "execute_result"
        }
      ],
      "source": [
        "# Separação do tipo da modalidade de curso \n",
        "\n",
        "df_dipl_graduacao = pd.read_csv('diplomados_graduacao.csv')\n",
        "df_modalidade_curso = df_dipl_graduacao[['SEXO', 'NOME_CURSO_DIPLOMA', 'MODALIDADE']]\n",
        "df_modalidade_curso.tail()"
      ]
    },
    {
      "cell_type": "code",
      "execution_count": 15,
      "metadata": {
        "colab": {
          "base_uri": "https://localhost:8080/",
          "height": 469
        },
        "id": "0R9kl0kDVIyJ",
        "outputId": "c01794bc-5ed8-43e3-de45-ac9c6ec1cb07"
      },
      "outputs": [
        {
          "data": {
            "text/html": [
              "<div>\n",
              "<style scoped>\n",
              "    .dataframe tbody tr th:only-of-type {\n",
              "        vertical-align: middle;\n",
              "    }\n",
              "\n",
              "    .dataframe tbody tr th {\n",
              "        vertical-align: top;\n",
              "    }\n",
              "\n",
              "    .dataframe thead th {\n",
              "        text-align: right;\n",
              "    }\n",
              "</style>\n",
              "<table border=\"1\" class=\"dataframe\">\n",
              "  <thead>\n",
              "    <tr style=\"text-align: right;\">\n",
              "      <th></th>\n",
              "      <th>SEXO</th>\n",
              "      <th>NOME_CURSO</th>\n",
              "    </tr>\n",
              "  </thead>\n",
              "  <tbody>\n",
              "    <tr>\n",
              "      <th>6453</th>\n",
              "      <td>F</td>\n",
              "      <td>CIÊNCIAS ECONÔMICAS</td>\n",
              "    </tr>\n",
              "    <tr>\n",
              "      <th>6454</th>\n",
              "      <td>M</td>\n",
              "      <td>SISTEMAS DE INFORMAÇÃO</td>\n",
              "    </tr>\n",
              "    <tr>\n",
              "      <th>6455</th>\n",
              "      <td>F</td>\n",
              "      <td>MEDICINA VETERINÁRIA</td>\n",
              "    </tr>\n",
              "    <tr>\n",
              "      <th>6456</th>\n",
              "      <td>F</td>\n",
              "      <td>ENFERMAGEM</td>\n",
              "    </tr>\n",
              "    <tr>\n",
              "      <th>6457</th>\n",
              "      <td>M</td>\n",
              "      <td>FÍSICA</td>\n",
              "    </tr>\n",
              "  </tbody>\n",
              "</table>\n",
              "</div>"
            ],
            "text/plain": [
              "     SEXO              NOME_CURSO\n",
              "6453    F     CIÊNCIAS ECONÔMICAS\n",
              "6454    M  SISTEMAS DE INFORMAÇÃO\n",
              "6455    F    MEDICINA VETERINÁRIA\n",
              "6456    F              ENFERMAGEM\n",
              "6457    M                  FÍSICA"
            ]
          },
          "execution_count": 15,
          "metadata": {},
          "output_type": "execute_result"
        }
      ],
      "source": [
        "# Leitura do dataset \"diplomas-20-maio-2021\", \"diplomas-jun-2021.csv\" e \"\"diplomas_jul_2021.csv\n",
        "\n",
        "df_dipl_maio_2021 = pd.read_csv( 'diplomas-20-maio-2021.csv' )\n",
        "df_dipl_junho_2021 = pd.read_csv( 'diplomas-jun-2021.csv' )\n",
        "df_dipl_julho_2021 = pd.read_csv( 'diplomas_jul_2021.csv' )\n",
        "df_dipl_mes = df_dipl_maio_2021.append(df_dipl_junho_2021, ignore_index=True)\n",
        "df_dipl_mes = df_dipl_mes.append(df_dipl_julho_2021, ignore_index=True)\n",
        "df_dipl_mes = df_dipl_mes[['SEXO', 'NOME_CURSO']]\n",
        "df_dipl_mes.tail()"
      ]
    },
    {
      "cell_type": "code",
      "execution_count": 16,
      "metadata": {
        "colab": {
          "base_uri": "https://localhost:8080/",
          "height": 206
        },
        "id": "5q-R5k7EWTWI",
        "outputId": "16432245-0795-41e7-dbba-caae7d8f0e25"
      },
      "outputs": [
        {
          "data": {
            "text/html": [
              "<div>\n",
              "<style scoped>\n",
              "    .dataframe tbody tr th:only-of-type {\n",
              "        vertical-align: middle;\n",
              "    }\n",
              "\n",
              "    .dataframe tbody tr th {\n",
              "        vertical-align: top;\n",
              "    }\n",
              "\n",
              "    .dataframe thead th {\n",
              "        text-align: right;\n",
              "    }\n",
              "</style>\n",
              "<table border=\"1\" class=\"dataframe\">\n",
              "  <thead>\n",
              "    <tr style=\"text-align: right;\">\n",
              "      <th></th>\n",
              "      <th>SEXO</th>\n",
              "      <th>CURSO</th>\n",
              "      <th>NOME_PESSOA</th>\n",
              "      <th>NOME_CURSO_DIPLOMA</th>\n",
              "      <th>MODALIDADE</th>\n",
              "      <th>FORMA_INGRESSO</th>\n",
              "      <th>ANO_INGRESSO</th>\n",
              "      <th>ANO_EVASAO</th>\n",
              "    </tr>\n",
              "  </thead>\n",
              "  <tbody>\n",
              "    <tr>\n",
              "      <th>11021</th>\n",
              "      <td>F</td>\n",
              "      <td>NaN</td>\n",
              "      <td>MAYARA CHRIST MACHRY</td>\n",
              "      <td>Medicina</td>\n",
              "      <td>Bacharelado</td>\n",
              "      <td>ENEM/SISU</td>\n",
              "      <td>2010.0</td>\n",
              "      <td>2016.0</td>\n",
              "    </tr>\n",
              "    <tr>\n",
              "      <th>11022</th>\n",
              "      <td>F</td>\n",
              "      <td>NaN</td>\n",
              "      <td>Giovanna Cristiano de Gouveia</td>\n",
              "      <td>Toxicologia Analítica</td>\n",
              "      <td>Tecnológico</td>\n",
              "      <td>ENEM/SISU</td>\n",
              "      <td>2018.0</td>\n",
              "      <td>2021.0</td>\n",
              "    </tr>\n",
              "    <tr>\n",
              "      <th>11023</th>\n",
              "      <td>F</td>\n",
              "      <td>NaN</td>\n",
              "      <td>Lenita Pereira Ferraz</td>\n",
              "      <td>Medicina</td>\n",
              "      <td>Bacharelado</td>\n",
              "      <td>ENEM/SISU</td>\n",
              "      <td>2010.0</td>\n",
              "      <td>2016.0</td>\n",
              "    </tr>\n",
              "    <tr>\n",
              "      <th>11024</th>\n",
              "      <td>F</td>\n",
              "      <td>NaN</td>\n",
              "      <td>NATASHA KISSMANN</td>\n",
              "      <td>Medicina</td>\n",
              "      <td>Bacharelado</td>\n",
              "      <td>ENEM/SISU</td>\n",
              "      <td>2011.0</td>\n",
              "      <td>2016.0</td>\n",
              "    </tr>\n",
              "    <tr>\n",
              "      <th>11025</th>\n",
              "      <td>F</td>\n",
              "      <td>NaN</td>\n",
              "      <td>Beatriz Rosa Garcia</td>\n",
              "      <td>Medicina</td>\n",
              "      <td>Bacharelado</td>\n",
              "      <td>Transferência amparada em lei</td>\n",
              "      <td>2020.0</td>\n",
              "      <td>2021.0</td>\n",
              "    </tr>\n",
              "  </tbody>\n",
              "</table>\n",
              "</div>"
            ],
            "text/plain": [
              "      SEXO CURSO                    NOME_PESSOA     NOME_CURSO_DIPLOMA  \\\n",
              "11021    F   NaN           MAYARA CHRIST MACHRY               Medicina   \n",
              "11022    F   NaN  Giovanna Cristiano de Gouveia  Toxicologia Analítica   \n",
              "11023    F   NaN          Lenita Pereira Ferraz               Medicina   \n",
              "11024    F   NaN               NATASHA KISSMANN               Medicina   \n",
              "11025    F   NaN            Beatriz Rosa Garcia               Medicina   \n",
              "\n",
              "        MODALIDADE                 FORMA_INGRESSO  ANO_INGRESSO  ANO_EVASAO  \n",
              "11021  Bacharelado                      ENEM/SISU        2010.0      2016.0  \n",
              "11022  Tecnológico                      ENEM/SISU        2018.0      2021.0  \n",
              "11023  Bacharelado                      ENEM/SISU        2010.0      2016.0  \n",
              "11024  Bacharelado                      ENEM/SISU        2011.0      2016.0  \n",
              "11025  Bacharelado  Transferência amparada em lei        2020.0      2021.0  "
            ]
          },
          "execution_count": 16,
          "metadata": {},
          "output_type": "execute_result"
        }
      ],
      "source": [
        "# DataFrame \"data\"\n",
        "# É a união de todos os datasets.\n",
        "\n",
        "data = df_rel_diplomados.append(df_dipl_ano, ignore_index=True)\n",
        "data = data.append(df_dipl_graduacao, ignore_index=True)\n",
        "data.tail()"
      ]
    },
    {
      "cell_type": "code",
      "execution_count": 17,
      "metadata": {
        "colab": {
          "base_uri": "https://localhost:8080/",
          "height": 143
        },
        "id": "xseYGmpf-4eT",
        "outputId": "714baf0a-4270-4621-d16a-8e75f2067cdd"
      },
      "outputs": [
        {
          "data": {
            "text/html": [
              "<div>\n",
              "<style scoped>\n",
              "    .dataframe tbody tr th:only-of-type {\n",
              "        vertical-align: middle;\n",
              "    }\n",
              "\n",
              "    .dataframe tbody tr th {\n",
              "        vertical-align: top;\n",
              "    }\n",
              "\n",
              "    .dataframe thead th {\n",
              "        text-align: right;\n",
              "    }\n",
              "</style>\n",
              "<table border=\"1\" class=\"dataframe\">\n",
              "  <thead>\n",
              "    <tr style=\"text-align: right;\">\n",
              "      <th></th>\n",
              "      <th>SEXO</th>\n",
              "      <th>CURSO</th>\n",
              "      <th>NOME_PESSOA</th>\n",
              "      <th>NOME_CURSO_DIPLOMA</th>\n",
              "      <th>MODALIDADE</th>\n",
              "      <th>FORMA_INGRESSO</th>\n",
              "      <th>ANO_INGRESSO</th>\n",
              "      <th>ANO_EVASAO</th>\n",
              "    </tr>\n",
              "  </thead>\n",
              "  <tbody>\n",
              "    <tr>\n",
              "      <th>0</th>\n",
              "      <td>F</td>\n",
              "      <td>4470</td>\n",
              "      <td>2026</td>\n",
              "      <td>2026</td>\n",
              "      <td>2026</td>\n",
              "      <td>2026</td>\n",
              "      <td>2026</td>\n",
              "      <td>2026</td>\n",
              "    </tr>\n",
              "    <tr>\n",
              "      <th>1</th>\n",
              "      <td>M</td>\n",
              "      <td>3665</td>\n",
              "      <td>865</td>\n",
              "      <td>865</td>\n",
              "      <td>865</td>\n",
              "      <td>865</td>\n",
              "      <td>865</td>\n",
              "      <td>865</td>\n",
              "    </tr>\n",
              "  </tbody>\n",
              "</table>\n",
              "</div>"
            ],
            "text/plain": [
              "  SEXO  CURSO  NOME_PESSOA  NOME_CURSO_DIPLOMA  MODALIDADE  FORMA_INGRESSO  \\\n",
              "0    F   4470         2026                2026        2026            2026   \n",
              "1    M   3665          865                 865         865             865   \n",
              "\n",
              "   ANO_INGRESSO  ANO_EVASAO  \n",
              "0          2026        2026  \n",
              "1           865         865  "
            ]
          },
          "execution_count": 17,
          "metadata": {},
          "output_type": "execute_result"
        }
      ],
      "source": [
        "# Conta o número de estudantes por sexo\n",
        "by_sexo = data.groupby('SEXO').count().reset_index()\n",
        "by_sexo\n",
        "\n",
        "# groupby - Agrupa os dados pela coluna passada no parâmetro\n",
        "# count() - Conta o número de itens de cada grupo encontrado pelo groupby\n",
        "# reset_index() - Reorganiza os índices para a nova estrutura do DataFrame"
      ]
    },
    {
      "cell_type": "code",
      "execution_count": 24,
      "metadata": {
        "colab": {
          "base_uri": "https://localhost:8080/",
          "height": 393
        },
        "id": "HQmhfBk6Llvz",
        "outputId": "d8dc6755-ca74-4618-e677-f9bfa493de81"
      },
      "outputs": [
        {
          "name": "stderr",
          "output_type": "stream",
          "text": [
            "No handles with labels found to put in legend.\n"
          ]
        },
        {
          "data": {
            "text/plain": [
              "<matplotlib.legend.Legend at 0x1154dcee0>"
            ]
          },
          "execution_count": 24,
          "metadata": {},
          "output_type": "execute_result"
        },
        {
          "data": {
            "image/png": "[encoded data removed]",
            "text/plain": [
              "<Figure size 1080x432 with 1 Axes>"
            ]
          },
          "metadata": {
            "needs_background": "light"
          },
          "output_type": "display_data"
        }
      ],
      "source": [
        "# Numero de formandos por sexo\n",
        "\n",
        "plt.figure( figsize=(15,6) ) # Tamanho da figura\n",
        "plt.bar( by_sexo['SEXO'], by_sexo['CURSO'] ) # valores dos eixos x e y\n",
        "plt.xlabel('Sexo')\n",
        "plt.ylabel('Qtd de alunos concluintes')\n",
        "plt.title('Quantidade de alunos concluintes por sexo')\n",
        "plt.legend()"
      ]
    },
    {
      "cell_type": "code",
      "execution_count": 27,
      "metadata": {},
      "outputs": [
        {
          "name": "stderr",
          "output_type": "stream",
          "text": [
            "No handles with labels found to put in legend.\n"
          ]
        },
        {
          "name": "stdout",
          "output_type": "stream",
          "text": [
            "    MODALIDADE  SEXO  NOME_CURSO_DIPLOMA\n",
            "0  Bacharelado  1919                1919\n",
            "1  Tecnológico   107                 107\n"
          ]
        },
        {
          "data": {
            "text/plain": [
              "<matplotlib.legend.Legend at 0x1155f02e0>"
            ]
          },
          "execution_count": 27,
          "metadata": {},
          "output_type": "execute_result"
        },
        {
          "data": {
            "image/png": "[encoded data removed]",
            "text/plain": [
              "<Figure size 1080x432 with 1 Axes>"
            ]
          },
          "metadata": {
            "needs_background": "light"
          },
          "output_type": "display_data"
        }
      ],
      "source": [
        "# Grafico de mulheres por modalidade de curso\n",
        "\n",
        "modalidade_F = df_modalidade_curso.loc[df_modalidade_curso['SEXO'] == 'F'].groupby('MODALIDADE').count().reset_index()\n",
        "\n",
        "print(modalidade_F)\n",
        "\n",
        "plt.figure( figsize=(15,6) ) # Tamanho da figura\n",
        "plt.bar( modalidade_F['MODALIDADE'], modalidade_F['SEXO'] ) # valores dos eixos x e y\n",
        "plt.xlabel('Modalidade de curso')\n",
        "plt.ylabel('Qtd de alunas concluintes')\n",
        "plt.title('Quantidade de alunas concluintes por modalidade de curso')\n",
        "plt.legend()"
      ]
    },
    {
      "cell_type": "code",
      "execution_count": 28,
      "metadata": {
        "id": "uszoy2Q_ijHm"
      },
      "outputs": [],
      "source": [
        "# Gráfico: Cursos em ordenador por maior diferença entre F e M\n",
        "\n",
        "by_curso_F = data.loc[data['SEXO'] == 'F'].groupby('CURSO').count()\n",
        "by_curso_M = data.loc[data['SEXO'] == 'M'].groupby('CURSO').count()\n",
        "by_curso_F = by_curso_F / by_curso_F.max() # Divide pelo máximo (Normaliza os valores entre 0 e 1)\n",
        "by_curso_M = by_curso_M / by_curso_M.max() # Divide pelo máximo (Normaliza os valores entre 0 e 1)\n",
        "\n",
        "# loc - Localiza os itens que atendam a condição\n",
        "# groupby - Agrupa por curso os itens selecionados pelo \"loc\""
      ]
    },
    {
      "cell_type": "code",
      "execution_count": 33,
      "metadata": {
        "colab": {
          "base_uri": "https://localhost:8080/",
          "height": 476
        },
        "id": "g9O1IJpclnbw",
        "outputId": "c9a8cd1f-9dba-4394-ca88-9f1c1af99287"
      },
      "outputs": [
        {
          "name": "stderr",
          "output_type": "stream",
          "text": [
            "No handles with labels found to put in legend.\n"
          ]
        },
        {
          "data": {
            "text/plain": [
              "<matplotlib.legend.Legend at 0x115420100>"
            ]
          },
          "execution_count": 33,
          "metadata": {},
          "output_type": "execute_result"
        },
        {
          "data": {
            "image/png": "[encoded data removed]",
            "text/plain": [
              "<Figure size 1080x432 with 1 Axes>"
            ]
          },
          "metadata": {
            "needs_background": "light"
          },
          "output_type": "display_data"
        }
      ],
      "source": [
        "# Gráfico: Os 10 cursos com maioria F\n",
        "\n",
        "by_curso = (by_curso_F - by_curso_M).sort_values( 'SEXO', ascending=False ).reset_index() # Ordena pela maior diferença entre o número de F e M\n",
        "\n",
        "plt.figure( figsize=(15,6) )\n",
        "plt.bar( by_curso['CURSO'][:10],  by_curso['SEXO'][:10])\n",
        "plt.xticks( rotation=60 );\n",
        "plt.xlabel('Cursos')\n",
        "plt.ylabel('Qtd de alunas concluintes')\n",
        "plt.title('Os 10 cursos com maioria feminina')\n",
        "plt.legend()"
      ]
    },
    {
      "cell_type": "code",
      "execution_count": 34,
      "metadata": {
        "colab": {
          "base_uri": "https://localhost:8080/",
          "height": 633
        },
        "id": "QvuxEk6Mjvl-",
        "outputId": "79e57351-fcad-4b7d-b3c3-cd9c8afacdeb"
      },
      "outputs": [
        {
          "name": "stderr",
          "output_type": "stream",
          "text": [
            "No handles with labels found to put in legend.\n"
          ]
        },
        {
          "data": {
            "text/plain": [
              "<matplotlib.legend.Legend at 0x11574bd00>"
            ]
          },
          "execution_count": 34,
          "metadata": {},
          "output_type": "execute_result"
        },
        {
          "data": {
            "image/png": "[encoded data removed]",
            "text/plain": [
              "<Figure size 1080x432 with 1 Axes>"
            ]
          },
          "metadata": {
            "needs_background": "light"
          },
          "output_type": "display_data"
        }
      ],
      "source": [
        "# Gráfico: Os 10 cursos com minoria F\n",
        "\n",
        "by_curso = (by_curso_M - by_curso_F).sort_values( 'SEXO', ascending=False ).reset_index() # Ordena pela maior diferença entre o número de M e F\n",
        "plt.figure( figsize=(15,6) )\n",
        "plt.bar( by_curso['CURSO'][:10],  by_curso['SEXO'][:10])\n",
        "plt.xticks( rotation=80 );\n",
        "plt.xlabel('Cursos')\n",
        "plt.ylabel('Qtd de alunas concluintes')\n",
        "plt.title('Os 10 cursos com minoria feminina')\n",
        "plt.legend()"
      ]
    }
  ],
  "metadata": {
    "colab": {
      "collapsed_sections": [],
      "name": "tcc_marina.ipynb",
      "provenance": []
    },
    "interpreter": {
      "hash": "31f2aee4e71d21fbe5cf8b01ff0e069b9275f58929596ceb00d14d90e3e16cd6"
    },
    "kernelspec": {
      "display_name": "Python 3.8.2 64-bit",
      "name": "python3"
    },
    "language_info": {
      "codemirror_mode": {
        "name": "ipython",
        "version": 3
      },
      "file_extension": ".py",
      "mimetype": "text/x-python",
      "name": "python",
      "nbconvert_exporter": "python",
      "pygments_lexer": "ipython3",
      "version": "3.8.2"
    }
  },
  "nbformat": 4,
  "nbformat_minor": 0
}
