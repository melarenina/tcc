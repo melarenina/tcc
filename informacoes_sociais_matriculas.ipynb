{
  "cells": [
    {
      "cell_type": "markdown",
      "metadata": {
        "id": "x-paGU2DumPM"
      },
      "source": [
        "## Ingresso vs Conclusão nos cursos\n"
      ]
    },
    {
      "cell_type": "code",
      "execution_count": 106,
      "metadata": {
        "id": "Cm4XzaC6rKG3"
      },
      "outputs": [],
      "source": [
        "import pandas as pd\n",
        "from matplotlib import pyplot as plt\n",
        "import numpy as np"
      ]
    },
    {
      "cell_type": "code",
      "execution_count": 107,
      "metadata": {},
      "outputs": [
        {
          "data": {
            "text/html": [
              "<div>\n",
              "<style scoped>\n",
              "    .dataframe tbody tr th:only-of-type {\n",
              "        vertical-align: middle;\n",
              "    }\n",
              "\n",
              "    .dataframe tbody tr th {\n",
              "        vertical-align: top;\n",
              "    }\n",
              "\n",
              "    .dataframe thead th {\n",
              "        text-align: right;\n",
              "    }\n",
              "</style>\n",
              "<table border=\"1\" class=\"dataframe\">\n",
              "  <thead>\n",
              "    <tr style=\"text-align: right;\">\n",
              "      <th></th>\n",
              "      <th>COTA</th>\n",
              "      <th>SEXO</th>\n",
              "      <th>NATURALIDADE</th>\n",
              "      <th>UF_ENDERECO</th>\n",
              "      <th>DEFICIENCIA</th>\n",
              "    </tr>\n",
              "  </thead>\n",
              "  <tbody>\n",
              "    <tr>\n",
              "      <th>6906</th>\n",
              "      <td>S</td>\n",
              "      <td>F</td>\n",
              "      <td>VITORIA DE SANTO ANTAO</td>\n",
              "      <td>PE</td>\n",
              "      <td>N</td>\n",
              "    </tr>\n",
              "    <tr>\n",
              "      <th>6907</th>\n",
              "      <td>N</td>\n",
              "      <td>F</td>\n",
              "      <td>VITORIA DE SANTO ANTAO</td>\n",
              "      <td>PE</td>\n",
              "      <td>N</td>\n",
              "    </tr>\n",
              "    <tr>\n",
              "      <th>6908</th>\n",
              "      <td>N</td>\n",
              "      <td>F</td>\n",
              "      <td>VITORIA DE SANTO ANTAO</td>\n",
              "      <td>PE</td>\n",
              "      <td>N</td>\n",
              "    </tr>\n",
              "    <tr>\n",
              "      <th>6909</th>\n",
              "      <td>N</td>\n",
              "      <td>M</td>\n",
              "      <td>VITORIA DE SANTO ANTAO</td>\n",
              "      <td>PE</td>\n",
              "      <td>N</td>\n",
              "    </tr>\n",
              "    <tr>\n",
              "      <th>6910</th>\n",
              "      <td>S</td>\n",
              "      <td>M</td>\n",
              "      <td>VITORIA DE SANTO ANTAO</td>\n",
              "      <td>PE</td>\n",
              "      <td>S</td>\n",
              "    </tr>\n",
              "  </tbody>\n",
              "</table>\n",
              "</div>"
            ],
            "text/plain": [
              "     COTA SEXO            NATURALIDADE UF_ENDERECO DEFICIENCIA\n",
              "6906    S    F  VITORIA DE SANTO ANTAO          PE           N\n",
              "6907    N    F  VITORIA DE SANTO ANTAO          PE           N\n",
              "6908    N    F  VITORIA DE SANTO ANTAO          PE           N\n",
              "6909    N    M  VITORIA DE SANTO ANTAO          PE           N\n",
              "6910    S    M  VITORIA DE SANTO ANTAO          PE           S"
            ]
          },
          "execution_count": 107,
          "metadata": {},
          "output_type": "execute_result"
        }
      ],
      "source": [
        "# Leitura do dataset \"discentes-ingressos-sisu-2020-ufpe\"\n",
        "\n",
        "df_ingressos_sisu = pd.read_csv( 'discentes-ingressos-sisu-2020-ufpe.csv' )\n",
        "\n",
        "df_ingressos_sisu = df_ingressos_sisu[['COTA', 'SEXO', 'NATURALIDADE', 'UF_ENDERECO', 'DEFICIENCIA']]\n",
        "#df_ingressos_sisu.columns = ['SEXO', 'NOME_CURSO', 'DATA_INGRESSO'] #Padronizando colunas\n",
        "df_ingressos_sisu.tail()"
      ]
    },
    {
      "cell_type": "code",
      "execution_count": 108,
      "metadata": {},
      "outputs": [
        {
          "name": "stderr",
          "output_type": "stream",
          "text": [
            "/Users/marina/Library/Python/3.8/lib/python/site-packages/IPython/core/interactiveshell.py:3444: FutureWarning: The error_bad_lines argument has been deprecated and will be removed in a future version.\n",
            "\n",
            "\n",
            "  exec(code_obj, self.user_global_ns, self.user_ns)\n",
            "/Users/marina/Library/Python/3.8/lib/python/site-packages/IPython/core/interactiveshell.py:3444: FutureWarning: The warn_bad_lines argument has been deprecated and will be removed in a future version.\n",
            "\n",
            "\n",
            "  exec(code_obj, self.user_global_ns, self.user_ns)\n"
          ]
        },
        {
          "data": {
            "text/html": [
              "<div>\n",
              "<style scoped>\n",
              "    .dataframe tbody tr th:only-of-type {\n",
              "        vertical-align: middle;\n",
              "    }\n",
              "\n",
              "    .dataframe tbody tr th {\n",
              "        vertical-align: top;\n",
              "    }\n",
              "\n",
              "    .dataframe thead th {\n",
              "        text-align: right;\n",
              "    }\n",
              "</style>\n",
              "<table border=\"1\" class=\"dataframe\">\n",
              "  <thead>\n",
              "    <tr style=\"text-align: right;\">\n",
              "      <th></th>\n",
              "      <th>SEXO</th>\n",
              "      <th>RAÇA</th>\n",
              "      <th>UF_ENDERECO</th>\n",
              "    </tr>\n",
              "  </thead>\n",
              "  <tbody>\n",
              "    <tr>\n",
              "      <th>434214</th>\n",
              "      <td>M</td>\n",
              "      <td>Amarela</td>\n",
              "      <td>MS</td>\n",
              "    </tr>\n",
              "    <tr>\n",
              "      <th>434215</th>\n",
              "      <td>F</td>\n",
              "      <td>Amarela</td>\n",
              "      <td>CE</td>\n",
              "    </tr>\n",
              "    <tr>\n",
              "      <th>434216</th>\n",
              "      <td>M</td>\n",
              "      <td>Amarela</td>\n",
              "      <td>PE</td>\n",
              "    </tr>\n",
              "    <tr>\n",
              "      <th>434217</th>\n",
              "      <td>F</td>\n",
              "      <td>Amarela</td>\n",
              "      <td>DF</td>\n",
              "    </tr>\n",
              "    <tr>\n",
              "      <th>434218</th>\n",
              "      <td>M</td>\n",
              "      <td>Amarela</td>\n",
              "      <td>SC</td>\n",
              "    </tr>\n",
              "  </tbody>\n",
              "</table>\n",
              "</div>"
            ],
            "text/plain": [
              "       SEXO     RAÇA UF_ENDERECO\n",
              "434214    M  Amarela          MS\n",
              "434215    F  Amarela          CE\n",
              "434216    M  Amarela          PE\n",
              "434217    F  Amarela          DF\n",
              "434218    M  Amarela          SC"
            ]
          },
          "execution_count": 108,
          "metadata": {},
          "output_type": "execute_result"
        }
      ],
      "source": [
        "# Leitura do dataset \"microdados-matriculas\"\n",
        "\n",
        "df_microdados_matriculas = pd.read_csv( 'microdados-matriculas.csv', encoding='latin-1', error_bad_lines=False, warn_bad_lines=False )\n",
        "\n",
        "df_microdados_matriculas = df_microdados_matriculas[['Sexo', 'Cor / Raça', 'UF']]\n",
        "df_microdados_matriculas.columns = ['SEXO', 'RAÇA', 'UF_ENDERECO'] #Padronizando colunas\n",
        "df_microdados_matriculas.tail()"
      ]
    },
    {
      "cell_type": "code",
      "execution_count": 109,
      "metadata": {},
      "outputs": [],
      "source": [
        "# Junção dos dados \n",
        "\n",
        "dados_sociais = df_ingressos_sisu.append(df_microdados_matriculas, ignore_index=True)\n",
        "\n",
        "dados_sociais_feminino = dados_sociais.loc[dados_sociais['SEXO'] == 'F']\n",
        "dados_sociais_masculino = dados_sociais.loc[dados_sociais['SEXO'] == 'M']"
      ]
    },
    {
      "cell_type": "code",
      "execution_count": 110,
      "metadata": {},
      "outputs": [
        {
          "data": {
            "image/png": "[encoded data removed]",
            "text/plain": [
              "<Figure size 1080x432 with 1 Axes>"
            ]
          },
          "metadata": {
            "needs_background": "light"
          },
          "output_type": "display_data"
        },
        {
          "data": {
            "image/png": "[encoded data removed]",
            "text/plain": [
              "<Figure size 1080x432 with 1 Axes>"
            ]
          },
          "metadata": {
            "needs_background": "light"
          },
          "output_type": "display_data"
        }
      ],
      "source": [
        "# Região mastrículas\n",
        "\n",
        "dados_sociais_feminino_regiao = dados_sociais_feminino.groupby('UF_ENDERECO').count().sort_values('NATURALIDADE', ascending=False).reset_index()[:8]\n",
        "dados_sociais_masculino_regiao = dados_sociais_masculino.groupby('UF_ENDERECO').count().sort_values('NATURALIDADE', ascending=False).reset_index()[:10]\n",
        "\n",
        "#--------------------MULHERES----------------------\n",
        "\n",
        "# data to plot\n",
        "n_groups = 8\n",
        "\n",
        "# create plot\n",
        "fig = plt.subplots(figsize=(15,6))\n",
        "index = np.arange(n_groups)\n",
        "bar_width = 0.35\n",
        "opacity = 0.8\n",
        "\n",
        "rects2 = plt.bar(index + bar_width, dados_sociais_feminino_regiao['COTA'], bar_width,\n",
        "alpha=opacity,\n",
        "color='g',\n",
        "label='Mulheres')\n",
        "\n",
        "plt.xlabel('Regiões')\n",
        "plt.ylabel('Quantidade')\n",
        "plt.title('TOP 8 regiões com mulheres cotistas')\n",
        "plt.xticks(index + bar_width, (dados_sociais_feminino_regiao['UF_ENDERECO']))\n",
        "plt.legend()\n",
        "\n",
        "plt.show()\n",
        "\n",
        "#--------------------HOMENS----------------------\n",
        "\n",
        "# data to plot\n",
        "n_groups = 10\n",
        "\n",
        "# create plot\n",
        "fig = plt.subplots(figsize=(15,6))\n",
        "index = np.arange(n_groups)\n",
        "bar_width = 0.35\n",
        "opacity = 0.8\n",
        "\n",
        "rects2 = plt.bar(index + bar_width, dados_sociais_masculino_regiao['COTA'], bar_width,\n",
        "alpha=opacity,\n",
        "color='b',\n",
        "label='Homens')\n",
        "\n",
        "plt.xlabel('Regiões')\n",
        "plt.ylabel('Quantidade')\n",
        "plt.title('TOP 10 regiões com homens cotistas')\n",
        "plt.xticks(index + bar_width, (dados_sociais_masculino_regiao['UF_ENDERECO']))\n",
        "plt.legend()\n",
        "\n",
        "plt.show()\n",
        "\n"
      ]
    },
    {
      "cell_type": "code",
      "execution_count": 122,
      "metadata": {},
      "outputs": [
        {
          "name": "stderr",
          "output_type": "stream",
          "text": [
            "No handles with labels found to put in legend.\n"
          ]
        },
        {
          "name": "stdout",
          "output_type": "stream",
          "text": [
            "  COTA SEXO  NATURALIDADE  UF_ENDERECO  DEFICIENCIA  RAÇA\n",
            "0    S    F          1689         1689         1689     0\n",
            "1    S    M          1756         1759         1759     0\n"
          ]
        },
        {
          "data": {
            "image/png": "[encoded data removed]",
            "text/plain": [
              "<Figure size 1080x432 with 1 Axes>"
            ]
          },
          "metadata": {
            "needs_background": "light"
          },
          "output_type": "display_data"
        }
      ],
      "source": [
        "# Quantidade de cotistas\n",
        "\n",
        "alunos_cotistas = dados_sociais.loc[(dados_sociais['COTA'] == 'S')].groupby(['COTA', 'SEXO']).count().reset_index()\n",
        "\n",
        "print(alunos_cotistas)\n",
        "\n",
        "# data to plot\n",
        "n_groups = 2\n",
        "\n",
        "# create plot\n",
        "fig = plt.subplots(figsize=(15,6))\n",
        "index = np.arange(n_groups)\n",
        "bar_width = 0.35\n",
        "opacity = 0.8\n",
        "\n",
        "rects1 = plt.bar(index + bar_width, alunos_cotistas['NATURALIDADE'], bar_width,\n",
        "alpha=opacity,\n",
        "color='b',)\n",
        "\n",
        "plt.xlabel('Sexo')\n",
        "plt.ylabel('Quantidade')\n",
        "plt.title('Quantidade de alunos cotistas por sexo')\n",
        "plt.xticks(index + bar_width, (alunos_cotistas['SEXO']))\n",
        "plt.legend()\n",
        "\n",
        "plt.show()\n"
      ]
    },
    {
      "cell_type": "code",
      "execution_count": 112,
      "metadata": {},
      "outputs": [
        {
          "data": {
            "image/png": "[encoded data removed]",
            "text/plain": [
              "<Figure size 1440x432 with 1 Axes>"
            ]
          },
          "metadata": {
            "needs_background": "light"
          },
          "output_type": "display_data"
        }
      ],
      "source": [
        "# Raça dos alunos\n",
        "\n",
        "\n",
        "raca_alunos = dados_sociais.loc[(dados_sociais['RAÇA'] != 'NaN')].groupby(['RAÇA', 'SEXO']).count().reset_index()\n",
        "\n",
        "raca_mulheres = raca_alunos.loc[(raca_alunos['SEXO'] == 'F')].groupby(['RAÇA', 'SEXO', 'UF_ENDERECO']).count().reset_index()\n",
        "raca_homens = raca_alunos.loc[(raca_alunos['SEXO'] == 'M')].groupby(['RAÇA', 'SEXO', 'UF_ENDERECO']).count().reset_index()\n",
        "\n",
        "# data to plot\n",
        "n_groups = 6\n",
        "\n",
        "# create plot\n",
        "fig = plt.subplots(figsize=(20,6))\n",
        "index = np.arange(n_groups)\n",
        "bar_width = 0.35\n",
        "opacity = 0.8\n",
        "\n",
        "rects1 = plt.bar(index, raca_homens['UF_ENDERECO'], bar_width,\n",
        "alpha=opacity,\n",
        "color='b',\n",
        "label='Homens')\n",
        "\n",
        "rects2 = plt.bar(index + bar_width, raca_mulheres['UF_ENDERECO'], bar_width,\n",
        "alpha=opacity,\n",
        "color='c',\n",
        "label='Mulheres')\n",
        "\n",
        "plt.xlabel('Raças')\n",
        "plt.ylabel('Quantidade')\n",
        "plt.title('Raças dos alunos matriculados')\n",
        "plt.xticks(index + bar_width, (raca_mulheres['RAÇA']))\n",
        "plt.legend()\n",
        "\n",
        "plt.show()\n"
      ]
    },
    {
      "cell_type": "code",
      "execution_count": 119,
      "metadata": {},
      "outputs": [
        {
          "data": {
            "image/png": "[encoded data removed]",
            "text/plain": [
              "<Figure size 1440x432 with 1 Axes>"
            ]
          },
          "metadata": {
            "needs_background": "light"
          },
          "output_type": "display_data"
        }
      ],
      "source": [
        "# Alunos com deficiencias \n",
        "\n",
        "alunos_deficientes = dados_sociais.loc[(dados_sociais['DEFICIENCIA'] == 'S')].groupby(['DEFICIENCIA', 'SEXO']).count().reset_index()\n",
        "\n",
        "mulheres_deficientes = alunos_deficientes.loc[(alunos_deficientes['SEXO'] == 'F')].groupby(['DEFICIENCIA', 'SEXO', 'UF_ENDERECO']).count().reset_index()\n",
        "homens_deficientes = alunos_deficientes.loc[(alunos_deficientes['SEXO'] == 'M')].groupby(['DEFICIENCIA', 'SEXO', 'UF_ENDERECO']).count().reset_index()\n",
        "\n",
        "# data to plot\n",
        "n_groups = 1\n",
        "\n",
        "# create plot\n",
        "fig = plt.subplots(figsize=(20,6))\n",
        "index = np.arange(n_groups)\n",
        "bar_width = 0.35\n",
        "opacity = 0.8\n",
        "\n",
        "rects1 = plt.bar(index, homens_deficientes['UF_ENDERECO'], bar_width,\n",
        "alpha=opacity,\n",
        "color='b',\n",
        "label='Homens')\n",
        "\n",
        "rects2 = plt.bar(index + bar_width, mulheres_deficientes['UF_ENDERECO'], bar_width,\n",
        "alpha=opacity,\n",
        "color='c',\n",
        "label='Mulheres')\n",
        "\n",
        "plt.ylabel('Quantidade')\n",
        "plt.title('Alunos portadores de deficiência')\n",
        "plt.xticks(index + bar_width, (['']))\n",
        "plt.legend()\n",
        "\n",
        "plt.show()\n"
      ]
    }
  ],
  "metadata": {
    "colab": {
      "collapsed_sections": [],
      "name": "tcc_marina.ipynb",
      "provenance": []
    },
    "interpreter": {
      "hash": "31f2aee4e71d21fbe5cf8b01ff0e069b9275f58929596ceb00d14d90e3e16cd6"
    },
    "kernelspec": {
      "display_name": "Python 3.8.2 64-bit",
      "name": "python3"
    },
    "language_info": {
      "codemirror_mode": {
        "name": "ipython",
        "version": 3
      },
      "file_extension": ".py",
      "mimetype": "text/x-python",
      "name": "python",
      "nbconvert_exporter": "python",
      "pygments_lexer": "ipython3",
      "version": "3.8.2"
    }
  },
  "nbformat": 4,
  "nbformat_minor": 0
}
