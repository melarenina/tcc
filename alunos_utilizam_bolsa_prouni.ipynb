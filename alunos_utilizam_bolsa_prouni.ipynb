{
  "cells": [
    {
      "cell_type": "markdown",
      "metadata": {
        "id": "x-paGU2DumPM"
      },
      "source": [
        "## Ingresso vs Conclusão nos cursos\n"
      ]
    },
    {
      "cell_type": "code",
      "execution_count": 1,
      "metadata": {
        "id": "Cm4XzaC6rKG3"
      },
      "outputs": [],
      "source": [
        "import pandas as pd\n",
        "from matplotlib import pyplot as plt\n",
        "import numpy as np"
      ]
    },
    {
      "cell_type": "code",
      "execution_count": 2,
      "metadata": {
        "colab": {
          "base_uri": "https://localhost:8080/",
          "height": 206
        },
        "id": "fecw780IrSCI",
        "outputId": "e1588a5d-541f-4c4b-fccb-62192977e4a4"
      },
      "outputs": [
        {
          "name": "stderr",
          "output_type": "stream",
          "text": [
            "/Users/marina/Library/Python/3.8/lib/python/site-packages/IPython/core/interactiveshell.py:3444: FutureWarning: The warn_bad_lines argument has been deprecated and will be removed in a future version.\n",
            "\n",
            "\n",
            "  exec(code_obj, self.user_global_ns, self.user_ns)\n",
            "/Users/marina/Library/Python/3.8/lib/python/site-packages/IPython/core/interactiveshell.py:3444: FutureWarning: The error_bad_lines argument has been deprecated and will be removed in a future version.\n",
            "\n",
            "\n",
            "  exec(code_obj, self.user_global_ns, self.user_ns)\n",
            "/Users/marina/Library/Python/3.8/lib/python/site-packages/IPython/core/interactiveshell.py:3444: DtypeWarning: Columns (15) have mixed types.Specify dtype option on import or set low_memory=False.\n",
            "  exec(code_obj, self.user_global_ns, self.user_ns)\n"
          ]
        },
        {
          "data": {
            "text/html": [
              "<div>\n",
              "<style scoped>\n",
              "    .dataframe tbody tr th:only-of-type {\n",
              "        vertical-align: middle;\n",
              "    }\n",
              "\n",
              "    .dataframe tbody tr th {\n",
              "        vertical-align: top;\n",
              "    }\n",
              "\n",
              "    .dataframe thead th {\n",
              "        text-align: right;\n",
              "    }\n",
              "</style>\n",
              "<table border=\"1\" class=\"dataframe\">\n",
              "  <thead>\n",
              "    <tr style=\"text-align: right;\">\n",
              "      <th></th>\n",
              "      <th>TIPO_BOLSA</th>\n",
              "      <th>SEXO_BENEFICIARIO_BOLSA</th>\n",
              "      <th>MODALIDADE_ENSINO_BOLSA</th>\n",
              "      <th>NOME_CURSO_BOLSA</th>\n",
              "      <th>RACA_BENEFICIARIO_BOLSA</th>\n",
              "      <th>BENEFICIARIO_DEFICIENTE_FISICO</th>\n",
              "      <th>REGIAO_BENEFICIARIO_BOLSA</th>\n",
              "    </tr>\n",
              "  </thead>\n",
              "  <tbody>\n",
              "    <tr>\n",
              "      <th>2220874</th>\n",
              "      <td>BOLSA INTEGRAL</td>\n",
              "      <td>F</td>\n",
              "      <td>Presencial</td>\n",
              "      <td>HistÃ³ria</td>\n",
              "      <td>Parda</td>\n",
              "      <td>Não deficiente</td>\n",
              "      <td>Nordeste</td>\n",
              "    </tr>\n",
              "    <tr>\n",
              "      <th>2220875</th>\n",
              "      <td>BOLSA INTEGRAL</td>\n",
              "      <td>M</td>\n",
              "      <td>Presencial</td>\n",
              "      <td>HistÃ³ria</td>\n",
              "      <td>Branca</td>\n",
              "      <td>Não deficiente</td>\n",
              "      <td>Nordeste</td>\n",
              "    </tr>\n",
              "    <tr>\n",
              "      <th>2220876</th>\n",
              "      <td>BOLSA INTEGRAL</td>\n",
              "      <td>F</td>\n",
              "      <td>Presencial</td>\n",
              "      <td>Pedagogia</td>\n",
              "      <td>Branca</td>\n",
              "      <td>Não deficiente</td>\n",
              "      <td>Nordeste</td>\n",
              "    </tr>\n",
              "    <tr>\n",
              "      <th>2220877</th>\n",
              "      <td>BOLSA PARCIAL 50%</td>\n",
              "      <td>F</td>\n",
              "      <td>Presencial</td>\n",
              "      <td>Pedagogia</td>\n",
              "      <td>Parda</td>\n",
              "      <td>Não deficiente</td>\n",
              "      <td>Nordeste</td>\n",
              "    </tr>\n",
              "    <tr>\n",
              "      <th>2220878</th>\n",
              "      <td>BOLSA INTEGRAL</td>\n",
              "      <td>F</td>\n",
              "      <td>Presencial</td>\n",
              "      <td>Enfermagem</td>\n",
              "      <td>Parda</td>\n",
              "      <td>Não deficiente</td>\n",
              "      <td>Centro-Oeste</td>\n",
              "    </tr>\n",
              "  </tbody>\n",
              "</table>\n",
              "</div>"
            ],
            "text/plain": [
              "                TIPO_BOLSA SEXO_BENEFICIARIO_BOLSA MODALIDADE_ENSINO_BOLSA  \\\n",
              "2220874     BOLSA INTEGRAL                       F              Presencial   \n",
              "2220875     BOLSA INTEGRAL                       M              Presencial   \n",
              "2220876     BOLSA INTEGRAL                       F              Presencial   \n",
              "2220877  BOLSA PARCIAL 50%                       F              Presencial   \n",
              "2220878     BOLSA INTEGRAL                       F              Presencial   \n",
              "\n",
              "        NOME_CURSO_BOLSA RACA_BENEFICIARIO_BOLSA  \\\n",
              "2220874        HistÃ³ria                   Parda   \n",
              "2220875        HistÃ³ria                  Branca   \n",
              "2220876        Pedagogia                  Branca   \n",
              "2220877        Pedagogia                   Parda   \n",
              "2220878       Enfermagem                   Parda   \n",
              "\n",
              "        BENEFICIARIO_DEFICIENTE_FISICO REGIAO_BENEFICIARIO_BOLSA  \n",
              "2220874                 Não deficiente                  Nordeste  \n",
              "2220875                 Não deficiente                  Nordeste  \n",
              "2220876                 Não deficiente                  Nordeste  \n",
              "2220877                 Não deficiente                  Nordeste  \n",
              "2220878                 Não deficiente              Centro-Oeste  "
            ]
          },
          "execution_count": 2,
          "metadata": {},
          "output_type": "execute_result"
        }
      ],
      "source": [
        "# Leitura do dataset \"ProuniRelatorioDadosAbertos2020\"\n",
        "\n",
        "df_prouni_2005 = pd.read_csv('pda-prouni-2005.csv', encoding='latin-1', error_bad_lines=False, warn_bad_lines=False )\n",
        "df_prouni_2006 = pd.read_csv('pda-prouni-2006.csv', encoding='latin-1', error_bad_lines=False, warn_bad_lines=False )\n",
        "df_prouni_2007 = pd.read_csv('pda-prouni-2007.csv', encoding='latin-1', error_bad_lines=False, warn_bad_lines=False )\n",
        "df_prouni_2008 = pd.read_csv('pda-prouni-2008.csv', encoding='latin-1', error_bad_lines=False, warn_bad_lines=False )\n",
        "df_prouni_2009 = pd.read_csv('pda-prouni-2009.csv', encoding='latin-1', error_bad_lines=False, warn_bad_lines=False )\n",
        "df_prouni_2010 = pd.read_csv('pda-prouni-2010.csv', encoding='latin-1', error_bad_lines=False, warn_bad_lines=False )\n",
        "df_prouni_2011 = pd.read_csv('pda-prouni-2011.csv', encoding='latin-1', error_bad_lines=False, warn_bad_lines=False )\n",
        "df_prouni_2012 = pd.read_csv('pda-prouni-2012.csv', encoding='latin-1', error_bad_lines=False, warn_bad_lines=False )\n",
        "df_prouni_2013 = pd.read_csv('pda-prouni-2013.csv', encoding='latin-1', error_bad_lines=False, warn_bad_lines=False )\n",
        "df_prouni_2014 = pd.read_csv('pda-prouni-2014.csv', encoding='latin-1', error_bad_lines=False, warn_bad_lines=False )\n",
        "df_prouni_2015 = pd.read_csv('pda-prouni-2015.csv', encoding='latin-1', error_bad_lines=False, warn_bad_lines=False )\n",
        "df_prouni_2016 = pd.read_csv('pda-prouni-2016.csv', encoding='latin-1', error_bad_lines=False, warn_bad_lines=False )\n",
        "df_prouni_2018 = pd.read_csv('pda-prouni-2018.csv', encoding='latin-1', error_bad_lines=False, warn_bad_lines=False )\n",
        "\n",
        "df_dados_prouni = df_prouni_2005.append(df_prouni_2006, ignore_index=True)\n",
        "df_dados_prouni = df_dados_prouni.append(df_prouni_2007, ignore_index=True)\n",
        "df_dados_prouni = df_dados_prouni.append(df_prouni_2008, ignore_index=True)\n",
        "df_dados_prouni = df_dados_prouni.append(df_prouni_2009, ignore_index=True)\n",
        "df_dados_prouni = df_dados_prouni.append(df_prouni_2010, ignore_index=True)\n",
        "df_dados_prouni = df_dados_prouni.append(df_prouni_2011, ignore_index=True)\n",
        "df_dados_prouni = df_dados_prouni.append(df_prouni_2012, ignore_index=True)\n",
        "df_dados_prouni = df_dados_prouni.append(df_prouni_2013, ignore_index=True)\n",
        "df_dados_prouni = df_dados_prouni.append(df_prouni_2014, ignore_index=True)\n",
        "df_dados_prouni = df_dados_prouni.append(df_prouni_2015, ignore_index=True)\n",
        "df_dados_prouni = df_dados_prouni.append(df_prouni_2016, ignore_index=True)\n",
        "df_dados_prouni = df_dados_prouni.append(df_prouni_2018, ignore_index=True)\n",
        "\n",
        "df_dados_prouni['SEXO_BENEFICIARIO_BOLSA'] = df_dados_prouni['SEXO_BENEFICIARIO_BOLSA'].str.replace('Feminino','F')\n",
        "df_dados_prouni['SEXO_BENEFICIARIO_BOLSA'] = df_dados_prouni['SEXO_BENEFICIARIO_BOLSA'].str.replace('Masculino','M')\n",
        "df_dados_prouni['NOME_CURSO_BOLSA'] = df_dados_prouni['NOME_CURSO_BOLSA'].str.replace('Ã£','ã')\n",
        "df_dados_prouni['NOME_CURSO_BOLSA'] = df_dados_prouni['NOME_CURSO_BOLSA'].str.replace('Ã§','ç')\n",
        "df_dados_prouni['NOME_CURSO_BOLSA'] = df_dados_prouni['NOME_CURSO_BOLSA'].str.replace('Ã¡','á')\n",
        "df_dados_prouni['NOME_CURSO_BOLSA'] = df_dados_prouni['NOME_CURSO_BOLSA'].str.replace('Ãª','ê')\n",
        "df_dados_prouni['NOME_CURSO_BOLSA'] = df_dados_prouni['NOME_CURSO_BOLSA'].str.replace('Ã­','í')\n",
        "df_dados_prouni['RACA_BENEFICIARIO_BOLSA'] = df_dados_prouni['RACA_BENEFICIARIO_BOLSA'].str.replace('Ã­','í')\n",
        "df_dados_prouni['RACA_BENEFICIARIO_BOLSA'] = df_dados_prouni['RACA_BENEFICIARIO_BOLSA'].str.replace('Ã£','ã')\n",
        "df_dados_prouni['BENEFICIARIO_DEFICIENTE_FISICO'] = df_dados_prouni['BENEFICIARIO_DEFICIENTE_FISICO'].str.replace('N','Não deficiente')\n",
        "df_dados_prouni['BENEFICIARIO_DEFICIENTE_FISICO'] = df_dados_prouni['BENEFICIARIO_DEFICIENTE_FISICO'].str.replace('Não deficienteÃO','Não deficiente')\n",
        "df_dados_prouni['BENEFICIARIO_DEFICIENTE_FISICO'] = df_dados_prouni['BENEFICIARIO_DEFICIENTE_FISICO'].str.replace('SIM','Deficiente')\n",
        "df_dados_prouni['BENEFICIARIO_DEFICIENTE_FISICO'] = df_dados_prouni['BENEFICIARIO_DEFICIENTE_FISICO'].str.replace('S','Deficiente')\n",
        "df_dados_prouni['REGIAO_BENEFICIARIO_BOLSA'] = df_dados_prouni['REGIAO_BENEFICIARIO_BOLSA'].str.replace('CENTRO-OESTE','Centro-Oeste')\n",
        "df_dados_prouni['REGIAO_BENEFICIARIO_BOLSA'] = df_dados_prouni['REGIAO_BENEFICIARIO_BOLSA'].str.replace('NORDESTE','Nordeste')\n",
        "df_dados_prouni['REGIAO_BENEFICIARIO_BOLSA'] = df_dados_prouni['REGIAO_BENEFICIARIO_BOLSA'].str.replace('NORTE','Norte')\n",
        "df_dados_prouni['REGIAO_BENEFICIARIO_BOLSA'] = df_dados_prouni['REGIAO_BENEFICIARIO_BOLSA'].str.replace('SUDESTE','Sudeste')\n",
        "df_dados_prouni['REGIAO_BENEFICIARIO_BOLSA'] = df_dados_prouni['REGIAO_BENEFICIARIO_BOLSA'].str.replace('SUL','Sul')\n",
        "\n",
        "df_dados_prouni = df_dados_prouni[['TIPO_BOLSA', 'SEXO_BENEFICIARIO_BOLSA', 'MODALIDADE_ENSINO_BOLSA', 'NOME_CURSO_BOLSA', 'RACA_BENEFICIARIO_BOLSA', 'BENEFICIARIO_DEFICIENTE_FISICO', 'REGIAO_BENEFICIARIO_BOLSA']]\n",
        "df_dados_prouni.tail()"
      ]
    },
    {
      "cell_type": "code",
      "execution_count": 21,
      "metadata": {
        "colab": {
          "base_uri": "https://localhost:8080/",
          "height": 206
        },
        "id": "M_dsA_VKNeQq",
        "outputId": "c62600d5-95a9-479b-c698-a3a1860d5987"
      },
      "outputs": [
        {
          "name": "stderr",
          "output_type": "stream",
          "text": [
            "No handles with labels found to put in legend.\n"
          ]
        },
        {
          "data": {
            "text/plain": [
              "<matplotlib.legend.Legend at 0x15190abe0>"
            ]
          },
          "execution_count": 21,
          "metadata": {},
          "output_type": "execute_result"
        },
        {
          "data": {
            "image/png": "[encoded data removed]",
            "text/plain": [
              "<Figure size 1584x432 with 1 Axes>"
            ]
          },
          "metadata": {
            "needs_background": "light"
          },
          "output_type": "display_data"
        }
      ],
      "source": [
        "# Quantidade de homens e mulheres que utilizam bolsa\n",
        "\n",
        "mulheres_bolsistas = df_dados_prouni.loc[df_dados_prouni['SEXO_BENEFICIARIO_BOLSA'] == 'F'].groupby(['SEXO_BENEFICIARIO_BOLSA', 'NOME_CURSO_BOLSA']).count().reset_index()\n",
        "homens_bolsistas = df_dados_prouni.loc[df_dados_prouni['SEXO_BENEFICIARIO_BOLSA'] == 'M'].groupby(['SEXO_BENEFICIARIO_BOLSA', 'NOME_CURSO_BOLSA']).count().reset_index()\n",
        "\n",
        "plt.figure( figsize=(22,6) ) # Tamanho da figura\n",
        "plt.bar( mulheres_bolsistas['SEXO_BENEFICIARIO_BOLSA'], mulheres_bolsistas['MODALIDADE_ENSINO_BOLSA'], color='c' ) # valores dos eixos x e y\n",
        "plt.bar( homens_bolsistas['SEXO_BENEFICIARIO_BOLSA'], homens_bolsistas['MODALIDADE_ENSINO_BOLSA'], color='b' ) # valores dos eixos x e y\n",
        "plt.xlabel('Sexo')\n",
        "plt.ylabel('Qtd de alunos ')\n",
        "plt.title('Quantidade de homens e mulheres bolsistas')\n",
        "plt.legend()"
      ]
    },
    {
      "cell_type": "code",
      "execution_count": 23,
      "metadata": {},
      "outputs": [
        {
          "name": "stdout",
          "output_type": "stream",
          "text": [
            "             NOME_CURSO_BOLSA SEXO_BENEFICIARIO_BOLSA  TIPO_BOLSA  \\\n",
            "0               Administração                       M      138361   \n",
            "1          Ciências Contábeis                       M       55086   \n",
            "2                     Direito                       M       99143   \n",
            "3             Educação Física                       M       42336   \n",
            "4                  Enfermagem                       M       21855   \n",
            "5            Engenharia Civil                       M       38909   \n",
            "6                Fisioterapia                       M       12808   \n",
            "7  Gestão De Recursos Humanos                       M       17853   \n",
            "8                   Pedagogia                       M       28625   \n",
            "9                  Psicologia                       M       16523   \n",
            "\n",
            "   MODALIDADE_ENSINO_BOLSA  RACA_BENEFICIARIO_BOLSA  \\\n",
            "0                        1                        1   \n",
            "1                        1                        1   \n",
            "2                        1                        1   \n",
            "3                        1                        1   \n",
            "4                        1                        1   \n",
            "5                        1                        1   \n",
            "6                        1                        1   \n",
            "7                        1                        1   \n",
            "8                        1                        1   \n",
            "9                        1                        1   \n",
            "\n",
            "   BENEFICIARIO_DEFICIENTE_FISICO  REGIAO_BENEFICIARIO_BOLSA  \n",
            "0                               1                          1  \n",
            "1                               1                          1  \n",
            "2                               1                          1  \n",
            "3                               1                          1  \n",
            "4                               1                          1  \n",
            "5                               1                          1  \n",
            "6                               1                          1  \n",
            "7                               1                          1  \n",
            "8                               1                          1  \n",
            "9                               1                          1  \n"
          ]
        },
        {
          "data": {
            "image/png": "[encoded data removed]",
            "text/plain": [
              "<Figure size 1656x432 with 1 Axes>"
            ]
          },
          "metadata": {
            "needs_background": "light"
          },
          "output_type": "display_data"
        }
      ],
      "source": [
        "# Cursos com maiores taxas de bolsistas\n",
        "\n",
        "bolsistas_ordenados = df_dados_prouni.groupby(['NOME_CURSO_BOLSA']).count().sort_values('MODALIDADE_ENSINO_BOLSA', ascending=False).reset_index()[:10]\n",
        "\n",
        "top_10_bolsistas = df_dados_prouni.loc[(df_dados_prouni['NOME_CURSO_BOLSA'] == 'Administração') | (df_dados_prouni['NOME_CURSO_BOLSA'] == 'Direito') |\n",
        "(df_dados_prouni['NOME_CURSO_BOLSA'] == 'Pedagogia') | (df_dados_prouni['NOME_CURSO_BOLSA'] == 'Ciências Contábeis') | (df_dados_prouni['NOME_CURSO_BOLSA'] == 'Enfermagem') |\n",
        "(df_dados_prouni['NOME_CURSO_BOLSA'] == 'Educação Física') | (df_dados_prouni['NOME_CURSO_BOLSA'] == 'Gestão De Recursos Humanos') | (df_dados_prouni['NOME_CURSO_BOLSA'] == 'Engenharia Civil') |\n",
        "(df_dados_prouni['NOME_CURSO_BOLSA'] == 'Psicologia') | (df_dados_prouni['NOME_CURSO_BOLSA'] == 'Fisioterapia')\n",
        "].groupby(['NOME_CURSO_BOLSA', 'SEXO_BENEFICIARIO_BOLSA']).count().reset_index()\n",
        "\n",
        "top_10_bolsistas_mulheres = top_10_bolsistas.loc[top_10_bolsistas['SEXO_BENEFICIARIO_BOLSA'] == 'F'].groupby(['NOME_CURSO_BOLSA', 'SEXO_BENEFICIARIO_BOLSA', 'TIPO_BOLSA']).count().reset_index()\n",
        "top_10_bolsistas_homens = top_10_bolsistas.loc[top_10_bolsistas['SEXO_BENEFICIARIO_BOLSA'] == 'M'].groupby(['NOME_CURSO_BOLSA', 'SEXO_BENEFICIARIO_BOLSA', 'TIPO_BOLSA']).count().reset_index()\n",
        "\n",
        "print(top_10_bolsistas_homens)\n",
        "\n",
        "# data to plot\n",
        "n_groups = 10\n",
        "\n",
        "# create plot\n",
        "fig = plt.subplots(figsize=(23,6))\n",
        "index = np.arange(n_groups)\n",
        "bar_width = 0.35\n",
        "opacity = 0.8\n",
        "\n",
        "rects1 = plt.bar(index, top_10_bolsistas_homens['TIPO_BOLSA'], bar_width,\n",
        "alpha=opacity,\n",
        "color='b',\n",
        "label='Homens')\n",
        "\n",
        "rects2 = plt.bar(index + bar_width, top_10_bolsistas_mulheres['TIPO_BOLSA'], bar_width,\n",
        "alpha=opacity,\n",
        "color='c',\n",
        "label='Mulheres')\n",
        "\n",
        "plt.xlabel('Cursos')\n",
        "plt.ylabel('Quantidade')\n",
        "plt.title('TOP 10 cursos com mais bolsistas')\n",
        "plt.xticks(index + bar_width, (top_10_bolsistas_mulheres['NOME_CURSO_BOLSA']))\n",
        "plt.legend()\n",
        "\n",
        "plt.show()"
      ]
    },
    {
      "cell_type": "code",
      "execution_count": 25,
      "metadata": {},
      "outputs": [
        {
          "name": "stdout",
          "output_type": "stream",
          "text": [
            "  SEXO_BENEFICIARIO_BOLSA RACA_BENEFICIARIO_BOLSA  NOME_CURSO_BOLSA  \\\n",
            "0                       M                 Amarela               468   \n",
            "1                       M                  Branca              2015   \n",
            "2                       M                Indígena               163   \n",
            "3                       M           Não Informada               368   \n",
            "4                       M                   Parda              1954   \n",
            "5                       M                   Preta              1400   \n",
            "\n",
            "   TIPO_BOLSA  MODALIDADE_ENSINO_BOLSA  BENEFICIARIO_DEFICIENTE_FISICO  \\\n",
            "0         468                      468                             468   \n",
            "1        2015                     2015                            2015   \n",
            "2         163                      163                             163   \n",
            "3         368                      368                             368   \n",
            "4        1954                     1954                            1954   \n",
            "5        1400                     1400                            1400   \n",
            "\n",
            "   REGIAO_BENEFICIARIO_BOLSA  \n",
            "0                        468  \n",
            "1                       2015  \n",
            "2                        163  \n",
            "3                        368  \n",
            "4                       1954  \n",
            "5                       1400  \n"
          ]
        },
        {
          "data": {
            "image/png": "[encoded data removed]",
            "text/plain": [
              "<Figure size 1656x432 with 1 Axes>"
            ]
          },
          "metadata": {
            "needs_background": "light"
          },
          "output_type": "display_data"
        }
      ],
      "source": [
        "# Raça dos beneficiários\n",
        "\n",
        "racas_beneficiarias_por_sexo = df_dados_prouni.groupby(['NOME_CURSO_BOLSA', 'SEXO_BENEFICIARIO_BOLSA', 'RACA_BENEFICIARIO_BOLSA']).count().reset_index()\n",
        "\n",
        "racas_beneficiarias_femininas = racas_beneficiarias_por_sexo.loc[racas_beneficiarias_por_sexo['SEXO_BENEFICIARIO_BOLSA'] == 'F'].groupby(['SEXO_BENEFICIARIO_BOLSA', 'RACA_BENEFICIARIO_BOLSA']).count().reset_index()\n",
        "racas_beneficiarias_masculinas = racas_beneficiarias_por_sexo.loc[racas_beneficiarias_por_sexo['SEXO_BENEFICIARIO_BOLSA'] == 'M'].groupby(['SEXO_BENEFICIARIO_BOLSA', 'RACA_BENEFICIARIO_BOLSA']).count().reset_index()\n",
        "\n",
        "# data to plot\n",
        "n_groups = 6\n",
        "\n",
        "# create plot\n",
        "fig = plt.subplots(figsize=(23,6))\n",
        "index = np.arange(n_groups)\n",
        "bar_width = 0.35\n",
        "opacity = 0.8\n",
        "\n",
        "rects1 = plt.bar(index, racas_beneficiarias_masculinas['NOME_CURSO_BOLSA'], bar_width,\n",
        "alpha=opacity,\n",
        "color='b',\n",
        "label='Homens')\n",
        "\n",
        "rects2 = plt.bar(index + bar_width, racas_beneficiarias_femininas['NOME_CURSO_BOLSA'], bar_width,\n",
        "alpha=opacity,\n",
        "color='c',\n",
        "label='Mulheres')\n",
        "\n",
        "plt.xlabel('Raças')\n",
        "plt.ylabel('Quantidade')\n",
        "plt.title('Raças dos bolsistas')\n",
        "plt.xticks(index + bar_width, (racas_beneficiarias_masculinas['RACA_BENEFICIARIO_BOLSA']))\n",
        "plt.legend()\n",
        "\n",
        "plt.show()"
      ]
    },
    {
      "cell_type": "code",
      "execution_count": 26,
      "metadata": {},
      "outputs": [
        {
          "name": "stdout",
          "output_type": "stream",
          "text": [
            "  SEXO_BENEFICIARIO_BOLSA BENEFICIARIO_DEFICIENTE_FISICO  NOME_CURSO_BOLSA  \\\n",
            "0                       F                     Deficiente               273   \n",
            "1                       F                 Não deficiente              2418   \n",
            "\n",
            "   TIPO_BOLSA  MODALIDADE_ENSINO_BOLSA  RACA_BENEFICIARIO_BOLSA  \\\n",
            "0         273                      273                      273   \n",
            "1        2418                     2418                     2418   \n",
            "\n",
            "   REGIAO_BENEFICIARIO_BOLSA  \n",
            "0                        273  \n",
            "1                       2418  \n",
            "  SEXO_BENEFICIARIO_BOLSA BENEFICIARIO_DEFICIENTE_FISICO  NOME_CURSO_BOLSA  \\\n",
            "0                       M                     Deficiente               369   \n",
            "1                       M                 Não deficiente              2530   \n",
            "\n",
            "   TIPO_BOLSA  MODALIDADE_ENSINO_BOLSA  RACA_BENEFICIARIO_BOLSA  \\\n",
            "0         369                      369                      369   \n",
            "1        2530                     2530                     2530   \n",
            "\n",
            "   REGIAO_BENEFICIARIO_BOLSA  \n",
            "0                        369  \n",
            "1                       2530  \n"
          ]
        },
        {
          "data": {
            "image/png": "[encoded data removed]",
            "text/plain": [
              "<Figure size 1656x432 with 1 Axes>"
            ]
          },
          "metadata": {
            "needs_background": "light"
          },
          "output_type": "display_data"
        }
      ],
      "source": [
        "# Beneficiários portadores de deficiência\n",
        "\n",
        "portadores_de_deficiencia_beneficiarias_por_sexo = df_dados_prouni.groupby(['NOME_CURSO_BOLSA', 'SEXO_BENEFICIARIO_BOLSA', 'BENEFICIARIO_DEFICIENTE_FISICO']).count().reset_index()\n",
        "\n",
        "portadores_de_deficiencia_femininas = portadores_de_deficiencia_beneficiarias_por_sexo.loc[portadores_de_deficiencia_beneficiarias_por_sexo['SEXO_BENEFICIARIO_BOLSA'] == 'F'].groupby(['SEXO_BENEFICIARIO_BOLSA', 'BENEFICIARIO_DEFICIENTE_FISICO']).count().reset_index()\n",
        "portadores_de_deficiencia_masculinos = portadores_de_deficiencia_beneficiarias_por_sexo.loc[portadores_de_deficiencia_beneficiarias_por_sexo['SEXO_BENEFICIARIO_BOLSA'] == 'M'].groupby(['SEXO_BENEFICIARIO_BOLSA', 'BENEFICIARIO_DEFICIENTE_FISICO']).count().reset_index()\n",
        "\n",
        "# data to plot\n",
        "n_groups = 2\n",
        "\n",
        "# create plot\n",
        "fig = plt.subplots(figsize=(23,6))\n",
        "index = np.arange(n_groups)\n",
        "bar_width = 0.35\n",
        "opacity = 0.8\n",
        "\n",
        "rects1 = plt.bar(index, portadores_de_deficiencia_masculinos['NOME_CURSO_BOLSA'], bar_width,\n",
        "alpha=opacity,\n",
        "color='b',\n",
        "label='Homens')\n",
        "\n",
        "rects2 = plt.bar(index + bar_width, portadores_de_deficiencia_femininas['NOME_CURSO_BOLSA'], bar_width,\n",
        "alpha=opacity,\n",
        "color='c',\n",
        "label='Mulheres')\n",
        "\n",
        "plt.ylabel('Quantidade')\n",
        "plt.title('Beneficiários portadores de deficiência')\n",
        "plt.xticks(index + bar_width, (portadores_de_deficiencia_femininas['BENEFICIARIO_DEFICIENTE_FISICO']))\n",
        "plt.legend()\n",
        "\n",
        "plt.show()"
      ]
    },
    {
      "cell_type": "code",
      "execution_count": 28,
      "metadata": {},
      "outputs": [
        {
          "name": "stdout",
          "output_type": "stream",
          "text": [
            "  SEXO_BENEFICIARIO_BOLSA REGIAO_BENEFICIARIO_BOLSA  NOME_CURSO_BOLSA  \\\n",
            "0                       M              Centro-Oeste               446   \n",
            "1                       M                  Nordeste               612   \n",
            "2                       M                     Norte               390   \n",
            "3                       M                   Sudeste              1988   \n",
            "4                       M                       Sul               688   \n",
            "\n",
            "   TIPO_BOLSA  MODALIDADE_ENSINO_BOLSA  RACA_BENEFICIARIO_BOLSA  \\\n",
            "0         446                      446                      446   \n",
            "1         612                      612                      612   \n",
            "2         390                      390                      390   \n",
            "3        1988                     1988                     1988   \n",
            "4         688                      688                      688   \n",
            "\n",
            "   BENEFICIARIO_DEFICIENTE_FISICO  \n",
            "0                             446  \n",
            "1                             612  \n",
            "2                             390  \n",
            "3                            1988  \n",
            "4                             688  \n"
          ]
        },
        {
          "data": {
            "image/png": "[encoded data removed]",
            "text/plain": [
              "<Figure size 1656x432 with 1 Axes>"
            ]
          },
          "metadata": {
            "needs_background": "light"
          },
          "output_type": "display_data"
        }
      ],
      "source": [
        "# Bolsistas por região\n",
        "\n",
        "regiao_beneficiarios_por_sexo = df_dados_prouni.groupby(['NOME_CURSO_BOLSA', 'SEXO_BENEFICIARIO_BOLSA', 'REGIAO_BENEFICIARIO_BOLSA']).count().reset_index()\n",
        "\n",
        "regiao_feminino = regiao_beneficiarios_por_sexo.loc[regiao_beneficiarios_por_sexo['SEXO_BENEFICIARIO_BOLSA'] == 'F'].groupby(['SEXO_BENEFICIARIO_BOLSA', 'REGIAO_BENEFICIARIO_BOLSA']).count().reset_index()\n",
        "regiao_masculino = regiao_beneficiarios_por_sexo.loc[regiao_beneficiarios_por_sexo['SEXO_BENEFICIARIO_BOLSA'] == 'M'].groupby(['SEXO_BENEFICIARIO_BOLSA', 'REGIAO_BENEFICIARIO_BOLSA']).count().reset_index()\n",
        "\n",
        "print(regiao_masculino)\n",
        "\n",
        "# data to plot\n",
        "n_groups = 5\n",
        "\n",
        "# create plot\n",
        "fig = plt.subplots(figsize=(23,6))\n",
        "index = np.arange(n_groups)\n",
        "bar_width = 0.35\n",
        "opacity = 0.8\n",
        "\n",
        "rects1 = plt.bar(index, regiao_masculino['NOME_CURSO_BOLSA'], bar_width,\n",
        "alpha=opacity,\n",
        "color='b',\n",
        "label='Homens')\n",
        "\n",
        "rects2 = plt.bar(index + bar_width, regiao_feminino['NOME_CURSO_BOLSA'], bar_width,\n",
        "alpha=opacity,\n",
        "color='c',\n",
        "label='Mulheres')\n",
        "\n",
        "plt.ylabel('Quantidade')\n",
        "plt.title('Beneficiários por região do país')\n",
        "plt.xticks(index + bar_width, (regiao_feminino['REGIAO_BENEFICIARIO_BOLSA']))\n",
        "plt.legend()\n",
        "\n",
        "plt.show()"
      ]
    }
  ],
  "metadata": {
    "colab": {
      "collapsed_sections": [],
      "name": "tcc_marina.ipynb",
      "provenance": []
    },
    "interpreter": {
      "hash": "31f2aee4e71d21fbe5cf8b01ff0e069b9275f58929596ceb00d14d90e3e16cd6"
    },
    "kernelspec": {
      "display_name": "Python 3.8.2 64-bit",
      "name": "python3"
    },
    "language_info": {
      "codemirror_mode": {
        "name": "ipython",
        "version": 3
      },
      "file_extension": ".py",
      "mimetype": "text/x-python",
      "name": "python",
      "nbconvert_exporter": "python",
      "pygments_lexer": "ipython3",
      "version": "3.8.2"
    }
  },
  "nbformat": 4,
  "nbformat_minor": 0
}
